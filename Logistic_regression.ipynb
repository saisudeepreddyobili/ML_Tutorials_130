{
  "cells": [
    {
      "source": [
        "\n",
        "# IMPORTANT: RUN THIS CELL IN ORDER TO IMPORT YOUR KAGGLE DATA SOURCES\n",
        "# TO THE CORRECT LOCATION (/kaggle/input) IN YOUR NOTEBOOK,\n",
        "# THEN FEEL FREE TO DELETE THIS CELL.\n",
        "# NOTE: THIS NOTEBOOK ENVIRONMENT DIFFERS FROM KAGGLE'S PYTHON\n",
        "# ENVIRONMENT SO THERE MAY BE MISSING LIBRARIES USED BY YOUR\n",
        "# NOTEBOOK.\n",
        "\n",
        "import os\n",
        "import sys\n",
        "from tempfile import NamedTemporaryFile\n",
        "from urllib.request import urlopen\n",
        "from urllib.parse import unquote, urlparse\n",
        "from urllib.error import HTTPError\n",
        "from zipfile import ZipFile\n",
        "import tarfile\n",
        "import shutil\n",
        "\n",
        "CHUNK_SIZE = 40960\n",
        "DATA_SOURCE_MAPPING = 'weather-dataset-rattle-package:https%3A%2F%2Fstorage.googleapis.com%2Fkaggle-data-sets%2F6012%2F198179%2Fbundle%2Farchive.zip%3FX-Goog-Algorithm%3DGOOG4-RSA-SHA256%26X-Goog-Credential%3Dgcp-kaggle-com%2540kaggle-161607.iam.gserviceaccount.com%252F20240506%252Fauto%252Fstorage%252Fgoog4_request%26X-Goog-Date%3D20240506T121923Z%26X-Goog-Expires%3D259200%26X-Goog-SignedHeaders%3Dhost%26X-Goog-Signature%3D64d7eb0ef4518cdd0c1bc7488b6d768e4db2eb847f903fd821ed70f10681ff0140d8fa44c812aad49eb1fd1b3dda226350db5a85ad411f3b4d70053d90865b7e6525a441352b231d1857080e24ab36f3731fab05e9935005589786b2da683333fe17189be434a8a12edb14bb98fe6be91a246c494e99ec3cf0d4f78a57ab3f46198dc2a7de7c312471330a522fc14ad82284b0c9d1c04f17ef3b3f3f3814b7f34401b21d452c89bdb97533d4c3aa3ca8bce4bfa85440e273b9cd597c8c9224979e6c4f0ad2913c100e77fa2e5745c056d5d519ab9e06890dcaa7b7edc724bc93643635df62fa280e737637ab0b32def4ec4f38ce8d031d8abe375641166c7575'\n",
        "\n",
        "KAGGLE_INPUT_PATH='/kaggle/input'\n",
        "KAGGLE_WORKING_PATH='/kaggle/working'\n",
        "KAGGLE_SYMLINK='kaggle'\n",
        "\n",
        "!umount /kaggle/input/ 2> /dev/null\n",
        "shutil.rmtree('/kaggle/input', ignore_errors=True)\n",
        "os.makedirs(KAGGLE_INPUT_PATH, 0o777, exist_ok=True)\n",
        "os.makedirs(KAGGLE_WORKING_PATH, 0o777, exist_ok=True)\n",
        "\n",
        "try:\n",
        "  os.symlink(KAGGLE_INPUT_PATH, os.path.join(\"..\", 'input'), target_is_directory=True)\n",
        "except FileExistsError:\n",
        "  pass\n",
        "try:\n",
        "  os.symlink(KAGGLE_WORKING_PATH, os.path.join(\"..\", 'working'), target_is_directory=True)\n",
        "except FileExistsError:\n",
        "  pass\n",
        "\n",
        "for data_source_mapping in DATA_SOURCE_MAPPING.split(','):\n",
        "    directory, download_url_encoded = data_source_mapping.split(':')\n",
        "    download_url = unquote(download_url_encoded)\n",
        "    filename = urlparse(download_url).path\n",
        "    destination_path = os.path.join(KAGGLE_INPUT_PATH, directory)\n",
        "    try:\n",
        "        with urlopen(download_url) as fileres, NamedTemporaryFile() as tfile:\n",
        "            total_length = fileres.headers['content-length']\n",
        "            print(f'Downloading {directory}, {total_length} bytes compressed')\n",
        "            dl = 0\n",
        "            data = fileres.read(CHUNK_SIZE)\n",
        "            while len(data) > 0:\n",
        "                dl += len(data)\n",
        "                tfile.write(data)\n",
        "                done = int(50 * dl / int(total_length))\n",
        "                sys.stdout.write(f\"\\r[{'=' * done}{' ' * (50-done)}] {dl} bytes downloaded\")\n",
        "                sys.stdout.flush()\n",
        "                data = fileres.read(CHUNK_SIZE)\n",
        "            if filename.endswith('.zip'):\n",
        "              with ZipFile(tfile) as zfile:\n",
        "                zfile.extractall(destination_path)\n",
        "            else:\n",
        "              with tarfile.open(tfile.name) as tarfile:\n",
        "                tarfile.extractall(destination_path)\n",
        "            print(f'\\nDownloaded and uncompressed: {directory}')\n",
        "    except HTTPError as e:\n",
        "        print(f'Failed to load (likely expired) {download_url} to path {destination_path}')\n",
        "        continue\n",
        "    except OSError as e:\n",
        "        print(f'Failed to load {download_url} to path {destination_path}')\n",
        "        continue\n",
        "\n",
        "print('Data source import complete.')\n"
      ],
      "metadata": {
        "id": "531xecZD2Cjs"
      },
      "cell_type": "code",
      "outputs": [],
      "execution_count": null
    },
    {
      "metadata": {
        "id": "GNwwGcGC2Cjv"
      },
      "cell_type": "markdown",
      "source": [
        "<a class=\"anchor\" id=\"0\"></a>\n",
        "# **Logistic Regression Classifier Tutorial with Python**\n",
        "\n",
        "\n",
        "Hello friends,\n",
        "\n",
        "\n",
        "In this kernel, I implement Logistic Regression with Python and Scikit-Learn. I build a Logistic Regression classifier to predict whether or not it will rain tomorrow in Australia. I train a binary classification model using Logistic Regression."
      ]
    },
    {
      "metadata": {
        "id": "-XT0wCJf2Cjw"
      },
      "cell_type": "markdown",
      "source": [
        "**As always, I hope you find this kernel useful and your <font color=\"red\"><b>UPVOTES</b></font> would be highly appreciated**.\n"
      ]
    },
    {
      "metadata": {
        "id": "YTzT4Ss22Cjw"
      },
      "cell_type": "markdown",
      "source": [
        "<a class=\"anchor\" id=\"0.1\"></a>\n",
        "# **Table of Contents**\n",
        "\n",
        "\n",
        "1.\t[Introduction to Logistic Regression](#1)\n",
        "2.\t[Logistic Regression intuition](#2)\n",
        "3.\t[Assumptions of Logistic Regression](#3)\n",
        "4.\t[Types of Logistic Regression](#4)\n",
        "5.\t[Import libraries](#5)\n",
        "6.\t[Import dataset](#6)\n",
        "7.\t[Exploratory data analysis](#7)\n",
        "8.\t[Declare feature vector and target variable](#8)\n",
        "9.\t[Split data into separate training and test set](#9)\n",
        "10.\t[Feature engineering](#10)\n",
        "11.\t[Feature scaling](#11)\n",
        "12.\t[Model training](#12)\n",
        "13.\t[Predict results](#13)\n",
        "14.\t[Check accuracy score](#14)\n",
        "15.\t[Confusion matrix](#15)\n",
        "16.\t[Classification metrices](#16)\n",
        "17.\t[Adjusting the threshold level](#17)\n",
        "18.\t[ROC - AUC](#18)\n",
        "19.\t[k-Fold Cross Validation](#19)\n",
        "20.\t[Hyperparameter optimization using GridSearch CV](#20)\n",
        "21.\t[Results and conclusion](#21)\n",
        "22. [References](#22)\n"
      ]
    },
    {
      "metadata": {
        "id": "8Vq3ajmQ2Cjx"
      },
      "cell_type": "markdown",
      "source": [
        "# **1. Introduction to Logistic Regression** <a class=\"anchor\" id=\"1\"></a>\n",
        "\n",
        "\n",
        "[Table of Contents](#0.1)\n",
        "\n",
        "\n",
        "When data scientists may come across a new classification problem, the first algorithm that may come across their mind is **Logistic Regression**. It is a supervised learning classification algorithm which is used to predict observations to a discrete set of classes. Practically, it is used to classify observations into different categories. Hence, its output is discrete in nature. **Logistic Regression** is also called **Logit Regression**. It is one of the most simple, straightforward and versatile classification algorithms which is used to solve classification problems."
      ]
    },
    {
      "metadata": {
        "id": "ur6p7l2w2Cjx"
      },
      "cell_type": "markdown",
      "source": [
        "# **2. Logistic Regression intuition** <a class=\"anchor\" id=\"2\"></a>\n",
        "\n",
        "\n",
        "[Table of Contents](#0.1)\n",
        "\n",
        "\n",
        "In statistics, the **Logistic Regression model** is a widely used statistical model which is primarily used for classification purposes. It means that given a set of observations, Logistic Regression algorithm helps us to classify these observations into two or more discrete classes. So, the target variable is discrete in nature.\n",
        "\n",
        "\n",
        "The Logistic Regression algorithm works as follows -"
      ]
    },
    {
      "metadata": {
        "id": "8oogFbjD2Cjy"
      },
      "cell_type": "markdown",
      "source": [
        "## **Implement linear equation**\n",
        "\n",
        "\n",
        "Logistic Regression algorithm works by implementing a linear equation with independent or explanatory variables to predict a response value. For example, we consider the example of number of hours studied and probability of passing the exam. Here, number of hours studied is the explanatory variable and it is denoted by x1. Probability of passing the exam is the response or target variable and it is denoted by z.\n",
        "\n",
        "\n",
        "If we have one explanatory variable (x1) and one response variable (z), then the linear equation would be given mathematically with the following equation-\n",
        "\n",
        "    z = β0 + β1x1    \n",
        "\n",
        "Here, the coefficients β0 and β1 are the parameters of the model.\n",
        "\n",
        "\n",
        "If there are multiple explanatory variables, then the above equation can be extended to\n",
        "\n",
        "    z = β0 + β1x1+ β2x2+……..+ βnxn\n",
        "    \n",
        "Here, the coefficients β0, β1, β2 and βn are the parameters of the model.\n",
        "\n",
        "So, the predicted response value is given by the above equations and is denoted by z."
      ]
    },
    {
      "metadata": {
        "id": "cshWPTqX2Cjz"
      },
      "cell_type": "markdown",
      "source": [
        "## **Sigmoid Function**\n",
        "\n",
        "This predicted response value, denoted by z is then converted into a probability value that lie between 0 and 1. We use the sigmoid function in order to map predicted values to probability values. This sigmoid function then maps any real value into a probability value between 0 and 1.\n",
        "\n",
        "In machine learning, sigmoid function is used to map predictions to probabilities. The sigmoid function has an S shaped curve. It is also called sigmoid curve.\n",
        "\n",
        "A Sigmoid function is a special case of the Logistic function. It is given by the following mathematical formula.\n",
        "\n",
        "Graphically, we can represent sigmoid function with the following graph."
      ]
    },
    {
      "metadata": {
        "id": "XbA4EXOa2Cjz"
      },
      "cell_type": "markdown",
      "source": [
        "### Sigmoid Function\n",
        "\n",
        "![Sigmoid Function](https://miro.medium.com/max/970/1*Xu7B5y9gp0iL5ooBj7LtWw.png)"
      ]
    },
    {
      "metadata": {
        "id": "uoGWEc5h2Cj0"
      },
      "cell_type": "markdown",
      "source": [
        "## **Decision boundary**\n",
        "\n",
        "The sigmoid function returns a probability value between 0 and 1. This probability value is then mapped to a discrete class which is either “0” or “1”. In order to map this probability value to a discrete class (pass/fail, yes/no, true/false), we select a threshold value. This threshold value is called Decision boundary. Above this threshold value, we will map the probability values into class 1 and below which we will map values into class 0.\n",
        "\n",
        "Mathematically, it can be expressed as follows:-\n",
        "\n",
        "p ≥ 0.5 => class = 1\n",
        "\n",
        "p < 0.5 => class = 0\n",
        "\n",
        "Generally, the decision boundary is set to 0.5. So, if the probability value is 0.8 (> 0.5), we will map this observation to class 1. Similarly, if the probability value is 0.2 (< 0.5), we will map this observation to class 0. This is represented in the graph below-"
      ]
    },
    {
      "metadata": {
        "id": "ODqfWpbR2Cj0"
      },
      "cell_type": "markdown",
      "source": [
        "![Decision boundary in sigmoid function](https://ml-cheatsheet.readthedocs.io/en/latest/_images/logistic_regression_sigmoid_w_threshold.png)"
      ]
    },
    {
      "metadata": {
        "id": "D3jtakfQ2Cj0"
      },
      "cell_type": "markdown",
      "source": [
        "## **Making predictions**\n",
        "\n",
        "Now, we know about sigmoid function and decision boundary in logistic regression. We can use our knowledge of sigmoid function and decision boundary to write a prediction function. A prediction function in logistic regression returns the probability of the observation being positive, Yes or True. We call this as class 1 and it is denoted by P(class = 1). If the probability inches closer to one, then we will be more confident about our model that the observation is in class 1, otherwise it is in class 0.\n"
      ]
    },
    {
      "metadata": {
        "id": "YvGPIVME2Cj1"
      },
      "cell_type": "markdown",
      "source": [
        "# **3. Assumptions of Logistic Regression** <a class=\"anchor\" id=\"3\"></a>\n",
        "\n",
        "\n",
        "[Table of Contents](#0.1)\n",
        "\n",
        "\n",
        "The Logistic Regression model requires several key assumptions. These are as follows:-\n",
        "\n",
        "1. Logistic Regression model requires the dependent variable to be binary, multinomial or ordinal in nature.\n",
        "\n",
        "2. It requires the observations to be independent of each other. So, the observations should not come from repeated measurements.\n",
        "\n",
        "3. Logistic Regression algorithm requires little or no multicollinearity among the independent variables. It means that the independent variables should not be too highly correlated with each other.\n",
        "\n",
        "4. Logistic Regression model assumes linearity of independent variables and log odds.\n",
        "\n",
        "5. The success of Logistic Regression model depends on the sample sizes. Typically, it requires a large sample size to achieve the high accuracy."
      ]
    },
    {
      "metadata": {
        "id": "qvfPMlet2Cj1"
      },
      "cell_type": "markdown",
      "source": [
        "# **4. Types of Logistic Regression** <a class=\"anchor\" id=\"4\"></a>\n",
        "\n",
        "\n",
        "[Table of Contents](#0.1)\n",
        "\n",
        "\n",
        "Logistic Regression model can be classified into three groups based on the target variable categories. These three groups are described below:-\n",
        "\n",
        "### 1. Binary Logistic Regression\n",
        "\n",
        "In Binary Logistic Regression, the target variable has two possible categories. The common examples of categories are yes or no, good or bad, true or false, spam or no spam and pass or fail.\n",
        "\n",
        "\n",
        "### 2. Multinomial Logistic Regression\n",
        "\n",
        "In Multinomial Logistic Regression, the target variable has three or more categories which are not in any particular order. So, there are three or more nominal categories. The examples include the type of categories of fruits - apple, mango, orange and banana.\n",
        "\n",
        "\n",
        "### 3. Ordinal Logistic Regression\n",
        "\n",
        "In Ordinal Logistic Regression, the target variable has three or more ordinal categories. So, there is intrinsic order involved with the categories. For example, the student performance can be categorized as poor, average, good and excellent.\n"
      ]
    },
    {
      "metadata": {
        "id": "JcO3mLm02Cj1"
      },
      "cell_type": "markdown",
      "source": [
        "# **5. Import libraries** <a class=\"anchor\" id=\"5\"></a>\n",
        "\n",
        "\n",
        "[Table of Contents](#0.1)"
      ]
    },
    {
      "metadata": {
        "trusted": true,
        "id": "FLjEl8q82Cj2"
      },
      "cell_type": "code",
      "source": [
        "# This Python 3 environment comes with many helpful analytics libraries installed\n",
        "# It is defined by the kaggle/python docker image: https://github.com/kaggle/docker-python\n",
        "# For example, here's several helpful packages to load in\n",
        "\n",
        "import numpy as np # linear algebra\n",
        "import pandas as pd # data processing, CSV file I/O (e.g. pd.read_csv)\n",
        "import matplotlib.pyplot as plt # data visualization\n",
        "import seaborn as sns # statistical data visualization\n",
        "%matplotlib inline\n",
        "\n",
        "# Input data files are available in the \"../input/\" directory.\n",
        "# For example, running this (by clicking run or pressing Shift+Enter) will list all files under the input directory\n",
        "\n",
        "import os\n",
        "for dirname, _, filenames in os.walk('/kaggle/input'):\n",
        "    for filename in filenames:\n",
        "        print(os.path.join(dirname, filename))\n",
        "\n",
        "# Any results you write to the current directory are saved as output.\n"
      ],
      "execution_count": null,
      "outputs": []
    },
    {
      "metadata": {
        "trusted": true,
        "id": "EAjSumyI2Cj2"
      },
      "cell_type": "code",
      "source": [
        "import warnings\n",
        "\n",
        "warnings.filterwarnings('ignore')"
      ],
      "execution_count": null,
      "outputs": []
    },
    {
      "metadata": {
        "id": "-FwPtWFS2Cj2"
      },
      "cell_type": "markdown",
      "source": [
        "# **6. Import dataset** <a class=\"anchor\" id=\"6\"></a>\n",
        "\n",
        "\n",
        "[Table of Contents](#0.1)"
      ]
    },
    {
      "metadata": {
        "trusted": true,
        "id": "-uGO8UcO2Cj2"
      },
      "cell_type": "code",
      "source": [
        "data = '/kaggle/input/weather-dataset-rattle-package/weatherAUS.csv'\n",
        "\n",
        "df = pd.read_csv(data)"
      ],
      "execution_count": null,
      "outputs": []
    },
    {
      "metadata": {
        "id": "FbhxeC5M2Cj3"
      },
      "cell_type": "markdown",
      "source": [
        "# **7. Exploratory data analysis** <a class=\"anchor\" id=\"7\"></a>\n",
        "\n",
        "\n",
        "[Table of Contents](#0.1)\n",
        "\n",
        "\n",
        "Now, I will explore the data to gain insights about the data."
      ]
    },
    {
      "metadata": {
        "trusted": true,
        "id": "Jmj09zbC2Cj3"
      },
      "cell_type": "code",
      "source": [
        "# view dimensions of dataset\n",
        "\n",
        "df.shape"
      ],
      "execution_count": null,
      "outputs": []
    },
    {
      "metadata": {
        "id": "p4ROMmic2Cj3"
      },
      "cell_type": "markdown",
      "source": [
        "We can see that there are 142193 instances and 24 variables in the data set."
      ]
    },
    {
      "metadata": {
        "trusted": true,
        "id": "lmZ2OKEG2Cj3"
      },
      "cell_type": "code",
      "source": [
        "# preview the dataset\n",
        "\n",
        "df.head()"
      ],
      "execution_count": null,
      "outputs": []
    },
    {
      "metadata": {
        "trusted": true,
        "id": "87jnApJ52Cj4"
      },
      "cell_type": "code",
      "source": [
        "col_names = df.columns\n",
        "\n",
        "col_names"
      ],
      "execution_count": null,
      "outputs": []
    },
    {
      "metadata": {
        "id": "EOVkhgkj2Cj4"
      },
      "cell_type": "markdown",
      "source": [
        "### Drop  RISK_MM variable\n",
        "\n",
        "It is given in the dataset description, that we should drop the `RISK_MM` feature variable from the dataset description. So, we\n",
        "should drop it as follows-"
      ]
    },
    {
      "metadata": {
        "trusted": true,
        "id": "MSt4M4_22Cj4"
      },
      "cell_type": "code",
      "source": [
        "df.drop(['RISK_MM'], axis=1, inplace=True)"
      ],
      "execution_count": null,
      "outputs": []
    },
    {
      "metadata": {
        "trusted": true,
        "id": "kgasdzcs2Cj4"
      },
      "cell_type": "code",
      "source": [
        "# view summary of dataset\n",
        "\n",
        "df.info()"
      ],
      "execution_count": null,
      "outputs": []
    },
    {
      "metadata": {
        "id": "CGXnfCqu2Cj5"
      },
      "cell_type": "markdown",
      "source": [
        "### Types of variables\n",
        "\n",
        "\n",
        "In this section, I segregate the dataset into categorical and numerical variables. There are a mixture of categorical and numerical variables in the dataset. Categorical variables have data type object. Numerical variables have data type float64.\n",
        "\n",
        "\n",
        "First of all, I will find categorical variables."
      ]
    },
    {
      "metadata": {
        "trusted": true,
        "id": "S0g90B1l2Cj5"
      },
      "cell_type": "code",
      "source": [
        "# find categorical variables\n",
        "\n",
        "categorical = [var for var in df.columns if df[var].dtype=='O']\n",
        "\n",
        "print('There are {} categorical variables\\n'.format(len(categorical)))\n",
        "\n",
        "print('The categorical variables are :', categorical)"
      ],
      "execution_count": null,
      "outputs": []
    },
    {
      "metadata": {
        "trusted": true,
        "id": "iIlBUIVi2Cj5"
      },
      "cell_type": "code",
      "source": [
        "# view the categorical variables\n",
        "\n",
        "df[categorical].head()"
      ],
      "execution_count": null,
      "outputs": []
    },
    {
      "metadata": {
        "id": "kNVkmZE22Cj5"
      },
      "cell_type": "markdown",
      "source": [
        "### Summary of categorical variables\n",
        "\n",
        "\n",
        "- There is a date variable. It is denoted by `Date` column.\n",
        "\n",
        "\n",
        "- There are 6 categorical variables. These are given by `Location`, `WindGustDir`, `WindDir9am`, `WindDir3pm`, `RainToday` and  `RainTomorrow`.\n",
        "\n",
        "\n",
        "- There are two binary categorical variables - `RainToday` and  `RainTomorrow`.\n",
        "\n",
        "\n",
        "- `RainTomorrow` is the target variable."
      ]
    },
    {
      "metadata": {
        "id": "bWaFBBF92Cj6"
      },
      "cell_type": "markdown",
      "source": [
        "## Explore problems within categorical variables\n",
        "\n",
        "\n",
        "First, I will explore the categorical variables.\n",
        "\n",
        "\n",
        "### Missing values in categorical variables"
      ]
    },
    {
      "metadata": {
        "trusted": true,
        "id": "n8ERco6_2Cj6"
      },
      "cell_type": "code",
      "source": [
        "# check missing values in categorical variables\n",
        "\n",
        "df[categorical].isnull().sum()"
      ],
      "execution_count": null,
      "outputs": []
    },
    {
      "metadata": {
        "trusted": true,
        "id": "vWQ6-NC22Cj6"
      },
      "cell_type": "code",
      "source": [
        "# print categorical variables containing missing values\n",
        "\n",
        "cat1 = [var for var in categorical if df[var].isnull().sum()!=0]\n",
        "\n",
        "print(df[cat1].isnull().sum())"
      ],
      "execution_count": null,
      "outputs": []
    },
    {
      "metadata": {
        "id": "Cq1XJxVb2Cj6"
      },
      "cell_type": "markdown",
      "source": [
        "We can see that there are only 4 categorical variables in the dataset which contains missing values. These are `WindGustDir`, `WindDir9am`, `WindDir3pm` and `RainToday`."
      ]
    },
    {
      "metadata": {
        "id": "S2A1--yR2Cj7"
      },
      "cell_type": "markdown",
      "source": [
        "### Frequency counts of categorical variables\n",
        "\n",
        "\n",
        "Now, I will check the frequency counts of categorical variables."
      ]
    },
    {
      "metadata": {
        "trusted": true,
        "id": "rPK2xf-w2Cj7"
      },
      "cell_type": "code",
      "source": [
        "# view frequency of categorical variables\n",
        "\n",
        "for var in categorical:\n",
        "\n",
        "    print(df[var].value_counts())"
      ],
      "execution_count": null,
      "outputs": []
    },
    {
      "metadata": {
        "trusted": true,
        "id": "SCULH6fZ2Cj7"
      },
      "cell_type": "code",
      "source": [
        "# view frequency distribution of categorical variables\n",
        "\n",
        "for var in categorical:\n",
        "\n",
        "    print(df[var].value_counts()/np.float(len(df)))"
      ],
      "execution_count": null,
      "outputs": []
    },
    {
      "metadata": {
        "id": "9d1GE-RQ2Cj7"
      },
      "cell_type": "markdown",
      "source": [
        "### Number of labels: cardinality\n",
        "\n",
        "\n",
        "The number of labels within a categorical variable is known as **cardinality**. A high number of labels within a variable is known as **high cardinality**. High cardinality may pose some serious problems in the machine learning model. So, I will check for high cardinality."
      ]
    },
    {
      "metadata": {
        "trusted": true,
        "id": "S2u6Fwwv2CkD"
      },
      "cell_type": "code",
      "source": [
        "# check for cardinality in categorical variables\n",
        "\n",
        "for var in categorical:\n",
        "\n",
        "    print(var, ' contains ', len(df[var].unique()), ' labels')"
      ],
      "execution_count": null,
      "outputs": []
    },
    {
      "metadata": {
        "id": "cc_2LKf-2CkD"
      },
      "cell_type": "markdown",
      "source": [
        "We can see that there is a `Date` variable which needs to be preprocessed. I will do preprocessing in the following section.\n",
        "\n",
        "\n",
        "All the other variables contain relatively smaller number of variables."
      ]
    },
    {
      "metadata": {
        "id": "5dS3feQL2CkD"
      },
      "cell_type": "markdown",
      "source": [
        "### Feature Engineering of Date Variable"
      ]
    },
    {
      "metadata": {
        "trusted": true,
        "id": "bLSFLUrc2CkD"
      },
      "cell_type": "code",
      "source": [
        "df['Date'].dtypes"
      ],
      "execution_count": null,
      "outputs": []
    },
    {
      "metadata": {
        "id": "L2tE8miO2CkD"
      },
      "cell_type": "markdown",
      "source": [
        "We can see that the data type of `Date` variable is object. I will parse the date currently coded as object into datetime format."
      ]
    },
    {
      "metadata": {
        "trusted": true,
        "id": "WCTWUPC22CkD"
      },
      "cell_type": "code",
      "source": [
        "# parse the dates, currently coded as strings, into datetime format\n",
        "\n",
        "df['Date'] = pd.to_datetime(df['Date'])"
      ],
      "execution_count": null,
      "outputs": []
    },
    {
      "metadata": {
        "trusted": true,
        "id": "tsZIR80G2CkE"
      },
      "cell_type": "code",
      "source": [
        "# extract year from date\n",
        "\n",
        "df['Year'] = df['Date'].dt.year\n",
        "\n",
        "df['Year'].head()"
      ],
      "execution_count": null,
      "outputs": []
    },
    {
      "metadata": {
        "trusted": true,
        "id": "NMlKR1lL2CkE"
      },
      "cell_type": "code",
      "source": [
        "# extract month from date\n",
        "\n",
        "df['Month'] = df['Date'].dt.month\n",
        "\n",
        "df['Month'].head()"
      ],
      "execution_count": null,
      "outputs": []
    },
    {
      "metadata": {
        "trusted": true,
        "id": "P3x12nPx2CkE"
      },
      "cell_type": "code",
      "source": [
        "# extract day from date\n",
        "\n",
        "df['Day'] = df['Date'].dt.day\n",
        "\n",
        "df['Day'].head()"
      ],
      "execution_count": null,
      "outputs": []
    },
    {
      "metadata": {
        "trusted": true,
        "id": "T30F8Dns2CkE"
      },
      "cell_type": "code",
      "source": [
        "# again view the summary of dataset\n",
        "\n",
        "df.info()"
      ],
      "execution_count": null,
      "outputs": []
    },
    {
      "metadata": {
        "id": "iER0fFKZ2CkE"
      },
      "cell_type": "markdown",
      "source": [
        "We can see that there are three additional columns created from `Date` variable. Now, I will drop the original `Date` variable from the dataset."
      ]
    },
    {
      "metadata": {
        "trusted": true,
        "id": "AjHokQsL2CkE"
      },
      "cell_type": "code",
      "source": [
        "# drop the original Date variable\n",
        "\n",
        "df.drop('Date', axis=1, inplace = True)"
      ],
      "execution_count": null,
      "outputs": []
    },
    {
      "metadata": {
        "trusted": true,
        "id": "coFi3t-G2CkE"
      },
      "cell_type": "code",
      "source": [
        "# preview the dataset again\n",
        "\n",
        "df.head()"
      ],
      "execution_count": null,
      "outputs": []
    },
    {
      "metadata": {
        "id": "iejJjBaA2CkF"
      },
      "cell_type": "markdown",
      "source": [
        "Now, we can see that the `Date` variable has been removed from the dataset.\n"
      ]
    },
    {
      "metadata": {
        "id": "_SxKqjz_2CkF"
      },
      "cell_type": "markdown",
      "source": [
        "### Explore Categorical Variables\n",
        "\n",
        "\n",
        "Now, I will explore the categorical variables one by one."
      ]
    },
    {
      "metadata": {
        "trusted": true,
        "id": "EvDUjePQ2CkF"
      },
      "cell_type": "code",
      "source": [
        "# find categorical variables\n",
        "\n",
        "categorical = [var for var in df.columns if df[var].dtype=='O']\n",
        "\n",
        "print('There are {} categorical variables\\n'.format(len(categorical)))\n",
        "\n",
        "print('The categorical variables are :', categorical)"
      ],
      "execution_count": null,
      "outputs": []
    },
    {
      "metadata": {
        "id": "dSoCsgGv2CkI"
      },
      "cell_type": "markdown",
      "source": [
        "We can see that there are 6 categorical variables in the dataset. The `Date` variable has been removed. First, I will check missing values in categorical variables."
      ]
    },
    {
      "metadata": {
        "trusted": true,
        "id": "6hQeZ4vu2CkI"
      },
      "cell_type": "code",
      "source": [
        "# check for missing values in categorical variables\n",
        "\n",
        "df[categorical].isnull().sum()"
      ],
      "execution_count": null,
      "outputs": []
    },
    {
      "metadata": {
        "id": "6_79yUIF2CkI"
      },
      "cell_type": "markdown",
      "source": [
        "We can see that `WindGustDir`, `WindDir9am`, `WindDir3pm`, `RainToday` variables contain missing values. I will explore these variables one by one."
      ]
    },
    {
      "metadata": {
        "id": "6nT6B89e2CkI"
      },
      "cell_type": "markdown",
      "source": [
        "### Explore `Location` variable"
      ]
    },
    {
      "metadata": {
        "trusted": true,
        "id": "ChqsYbs42CkJ"
      },
      "cell_type": "code",
      "source": [
        "# print number of labels in Location variable\n",
        "\n",
        "print('Location contains', len(df.Location.unique()), 'labels')"
      ],
      "execution_count": null,
      "outputs": []
    },
    {
      "metadata": {
        "trusted": true,
        "id": "6d6CAeao2CkJ"
      },
      "cell_type": "code",
      "source": [
        "# check labels in location variable\n",
        "\n",
        "df.Location.unique()"
      ],
      "execution_count": null,
      "outputs": []
    },
    {
      "metadata": {
        "trusted": true,
        "id": "h5iykqIx2CkJ"
      },
      "cell_type": "code",
      "source": [
        "# check frequency distribution of values in Location variable\n",
        "\n",
        "df.Location.value_counts()"
      ],
      "execution_count": null,
      "outputs": []
    },
    {
      "metadata": {
        "trusted": true,
        "id": "BqjlwVH72CkJ"
      },
      "cell_type": "code",
      "source": [
        "# let's do One Hot Encoding of Location variable\n",
        "# get k-1 dummy variables after One Hot Encoding\n",
        "# preview the dataset with head() method\n",
        "\n",
        "pd.get_dummies(df.Location, drop_first=True).head()"
      ],
      "execution_count": null,
      "outputs": []
    },
    {
      "metadata": {
        "id": "vVVUmkYP2CkJ"
      },
      "cell_type": "markdown",
      "source": [
        "### Explore `WindGustDir` variable"
      ]
    },
    {
      "metadata": {
        "trusted": true,
        "id": "yoet5UDD2CkK"
      },
      "cell_type": "code",
      "source": [
        "# print number of labels in WindGustDir variable\n",
        "\n",
        "print('WindGustDir contains', len(df['WindGustDir'].unique()), 'labels')"
      ],
      "execution_count": null,
      "outputs": []
    },
    {
      "metadata": {
        "trusted": true,
        "id": "9nJqi3nk2CkK"
      },
      "cell_type": "code",
      "source": [
        "# check labels in WindGustDir variable\n",
        "\n",
        "df['WindGustDir'].unique()"
      ],
      "execution_count": null,
      "outputs": []
    },
    {
      "metadata": {
        "trusted": true,
        "id": "_76gCOFf2CkK"
      },
      "cell_type": "code",
      "source": [
        "# check frequency distribution of values in WindGustDir variable\n",
        "\n",
        "df.WindGustDir.value_counts()"
      ],
      "execution_count": null,
      "outputs": []
    },
    {
      "metadata": {
        "trusted": true,
        "id": "R7ZMKclS2CkK"
      },
      "cell_type": "code",
      "source": [
        "# let's do One Hot Encoding of WindGustDir variable\n",
        "# get k-1 dummy variables after One Hot Encoding\n",
        "# also add an additional dummy variable to indicate there was missing data\n",
        "# preview the dataset with head() method\n",
        "\n",
        "pd.get_dummies(df.WindGustDir, drop_first=True, dummy_na=True).head()"
      ],
      "execution_count": null,
      "outputs": []
    },
    {
      "metadata": {
        "trusted": true,
        "id": "wI2OircH2CkL"
      },
      "cell_type": "code",
      "source": [
        "# sum the number of 1s per boolean variable over the rows of the dataset\n",
        "# it will tell us how many observations we have for each category\n",
        "\n",
        "pd.get_dummies(df.WindGustDir, drop_first=True, dummy_na=True).sum(axis=0)"
      ],
      "execution_count": null,
      "outputs": []
    },
    {
      "metadata": {
        "id": "qCaQHwTj2CkL"
      },
      "cell_type": "markdown",
      "source": [
        "We can see that there are 9330 missing values in WindGustDir variable."
      ]
    },
    {
      "metadata": {
        "id": "oUhqb8YT2CkL"
      },
      "cell_type": "markdown",
      "source": [
        "### Explore `WindDir9am` variable"
      ]
    },
    {
      "metadata": {
        "trusted": true,
        "id": "3i8sOEMC2CkL"
      },
      "cell_type": "code",
      "source": [
        "# print number of labels in WindDir9am variable\n",
        "\n",
        "print('WindDir9am contains', len(df['WindDir9am'].unique()), 'labels')"
      ],
      "execution_count": null,
      "outputs": []
    },
    {
      "metadata": {
        "trusted": true,
        "id": "BMuUazuw2CkM"
      },
      "cell_type": "code",
      "source": [
        "# check labels in WindDir9am variable\n",
        "\n",
        "df['WindDir9am'].unique()"
      ],
      "execution_count": null,
      "outputs": []
    },
    {
      "metadata": {
        "trusted": true,
        "id": "LPlWls7W2CkM"
      },
      "cell_type": "code",
      "source": [
        "# check frequency distribution of values in WindDir9am variable\n",
        "\n",
        "df['WindDir9am'].value_counts()"
      ],
      "execution_count": null,
      "outputs": []
    },
    {
      "metadata": {
        "trusted": true,
        "id": "H4-LK6ZA2CkM"
      },
      "cell_type": "code",
      "source": [
        "# let's do One Hot Encoding of WindDir9am variable\n",
        "# get k-1 dummy variables after One Hot Encoding\n",
        "# also add an additional dummy variable to indicate there was missing data\n",
        "# preview the dataset with head() method\n",
        "\n",
        "pd.get_dummies(df.WindDir9am, drop_first=True, dummy_na=True).head()"
      ],
      "execution_count": null,
      "outputs": []
    },
    {
      "metadata": {
        "trusted": true,
        "id": "MVDR6GtC2CkN"
      },
      "cell_type": "code",
      "source": [
        "# sum the number of 1s per boolean variable over the rows of the dataset\n",
        "# it will tell us how many observations we have for each category\n",
        "\n",
        "pd.get_dummies(df.WindDir9am, drop_first=True, dummy_na=True).sum(axis=0)"
      ],
      "execution_count": null,
      "outputs": []
    },
    {
      "metadata": {
        "id": "v1714iro2CkN"
      },
      "cell_type": "markdown",
      "source": [
        "We can see that there are 10013 missing values in the `WindDir9am` variable."
      ]
    },
    {
      "metadata": {
        "id": "nKLLZ3wW2CkN"
      },
      "cell_type": "markdown",
      "source": [
        "### Explore `WindDir3pm` variable"
      ]
    },
    {
      "metadata": {
        "trusted": true,
        "id": "gCAFcfss2CkN"
      },
      "cell_type": "code",
      "source": [
        "# print number of labels in WindDir3pm variable\n",
        "\n",
        "print('WindDir3pm contains', len(df['WindDir3pm'].unique()), 'labels')"
      ],
      "execution_count": null,
      "outputs": []
    },
    {
      "metadata": {
        "trusted": true,
        "id": "_7s9M2c-2CkO"
      },
      "cell_type": "code",
      "source": [
        "# check labels in WindDir3pm variable\n",
        "\n",
        "df['WindDir3pm'].unique()"
      ],
      "execution_count": null,
      "outputs": []
    },
    {
      "metadata": {
        "trusted": true,
        "id": "rrd8luUH2CkO"
      },
      "cell_type": "code",
      "source": [
        "# check frequency distribution of values in WindDir3pm variable\n",
        "\n",
        "df['WindDir3pm'].value_counts()"
      ],
      "execution_count": null,
      "outputs": []
    },
    {
      "metadata": {
        "trusted": true,
        "id": "Jfjgkl392CkO"
      },
      "cell_type": "code",
      "source": [
        "# let's do One Hot Encoding of WindDir3pm variable\n",
        "# get k-1 dummy variables after One Hot Encoding\n",
        "# also add an additional dummy variable to indicate there was missing data\n",
        "# preview the dataset with head() method\n",
        "\n",
        "pd.get_dummies(df.WindDir3pm, drop_first=True, dummy_na=True).head()"
      ],
      "execution_count": null,
      "outputs": []
    },
    {
      "metadata": {
        "trusted": true,
        "id": "LFJH7Tjw2CkO"
      },
      "cell_type": "code",
      "source": [
        "# sum the number of 1s per boolean variable over the rows of the dataset\n",
        "# it will tell us how many observations we have for each category\n",
        "\n",
        "pd.get_dummies(df.WindDir3pm, drop_first=True, dummy_na=True).sum(axis=0)"
      ],
      "execution_count": null,
      "outputs": []
    },
    {
      "metadata": {
        "id": "m8giFzmt2CkP"
      },
      "cell_type": "markdown",
      "source": [
        "There are 3778 missing values in the `WindDir3pm` variable."
      ]
    },
    {
      "metadata": {
        "id": "r7hDa8EK2CkP"
      },
      "cell_type": "markdown",
      "source": [
        "### Explore `RainToday` variable"
      ]
    },
    {
      "metadata": {
        "trusted": true,
        "id": "ihgeDKKI2CkP"
      },
      "cell_type": "code",
      "source": [
        "# print number of labels in RainToday variable\n",
        "\n",
        "print('RainToday contains', len(df['RainToday'].unique()), 'labels')"
      ],
      "execution_count": null,
      "outputs": []
    },
    {
      "metadata": {
        "trusted": true,
        "id": "YAmHf0yB2CkP"
      },
      "cell_type": "code",
      "source": [
        "# check labels in WindGustDir variable\n",
        "\n",
        "df['RainToday'].unique()"
      ],
      "execution_count": null,
      "outputs": []
    },
    {
      "metadata": {
        "trusted": true,
        "id": "rL46RBPj2CkQ"
      },
      "cell_type": "code",
      "source": [
        "# check frequency distribution of values in WindGustDir variable\n",
        "\n",
        "df.RainToday.value_counts()"
      ],
      "execution_count": null,
      "outputs": []
    },
    {
      "metadata": {
        "trusted": true,
        "id": "rB9EKrVo2CkQ"
      },
      "cell_type": "code",
      "source": [
        "# let's do One Hot Encoding of RainToday variable\n",
        "# get k-1 dummy variables after One Hot Encoding\n",
        "# also add an additional dummy variable to indicate there was missing data\n",
        "# preview the dataset with head() method\n",
        "\n",
        "pd.get_dummies(df.RainToday, drop_first=True, dummy_na=True).head()"
      ],
      "execution_count": null,
      "outputs": []
    },
    {
      "metadata": {
        "trusted": true,
        "id": "ImFXnvkr2CkQ"
      },
      "cell_type": "code",
      "source": [
        "# sum the number of 1s per boolean variable over the rows of the dataset\n",
        "# it will tell us how many observations we have for each category\n",
        "\n",
        "pd.get_dummies(df.RainToday, drop_first=True, dummy_na=True).sum(axis=0)"
      ],
      "execution_count": null,
      "outputs": []
    },
    {
      "metadata": {
        "id": "8nqdmnXw2CkQ"
      },
      "cell_type": "markdown",
      "source": [
        "There are 1406 missing values in the `RainToday` variable."
      ]
    },
    {
      "metadata": {
        "id": "IEG8OrEN2CkR"
      },
      "cell_type": "markdown",
      "source": [
        "### Explore Numerical Variables"
      ]
    },
    {
      "metadata": {
        "trusted": true,
        "id": "wKI53W2V2CkR"
      },
      "cell_type": "code",
      "source": [
        "# find numerical variables\n",
        "\n",
        "numerical = [var for var in df.columns if df[var].dtype!='O']\n",
        "\n",
        "print('There are {} numerical variables\\n'.format(len(numerical)))\n",
        "\n",
        "print('The numerical variables are :', numerical)"
      ],
      "execution_count": null,
      "outputs": []
    },
    {
      "metadata": {
        "trusted": true,
        "id": "7bge0ol92CkR"
      },
      "cell_type": "code",
      "source": [
        "# view the numerical variables\n",
        "\n",
        "df[numerical].head()"
      ],
      "execution_count": null,
      "outputs": []
    },
    {
      "metadata": {
        "id": "Fak4m9H32CkR"
      },
      "cell_type": "markdown",
      "source": [
        "### Summary of numerical variables\n",
        "\n",
        "\n",
        "- There are 16 numerical variables.\n",
        "\n",
        "\n",
        "- These are given by `MinTemp`, `MaxTemp`, `Rainfall`, `Evaporation`, `Sunshine`, `WindGustSpeed`, `WindSpeed9am`, `WindSpeed3pm`, `Humidity9am`, `Humidity3pm`, `Pressure9am`, `Pressure3pm`, `Cloud9am`, `Cloud3pm`, `Temp9am` and `Temp3pm`.\n",
        "\n",
        "\n",
        "- All of the numerical variables are of continuous type."
      ]
    },
    {
      "metadata": {
        "id": "KkmPG1uS2CkS"
      },
      "cell_type": "markdown",
      "source": [
        "## Explore problems within numerical variables\n",
        "\n",
        "\n",
        "Now, I will explore the numerical variables.\n",
        "\n",
        "\n",
        "### Missing values in numerical variables"
      ]
    },
    {
      "metadata": {
        "trusted": true,
        "id": "_2GF367Y2CkS"
      },
      "cell_type": "code",
      "source": [
        "# check missing values in numerical variables\n",
        "\n",
        "df[numerical].isnull().sum()"
      ],
      "execution_count": null,
      "outputs": []
    },
    {
      "metadata": {
        "id": "F8bYHO4V2CkS"
      },
      "cell_type": "markdown",
      "source": [
        "We can see that all the 16 numerical variables contain missing values."
      ]
    },
    {
      "metadata": {
        "id": "ovoh0rZY2CkS"
      },
      "cell_type": "markdown",
      "source": [
        "### Outliers in numerical variables"
      ]
    },
    {
      "metadata": {
        "trusted": true,
        "id": "ECBjYiFe2CkT"
      },
      "cell_type": "code",
      "source": [
        "# view summary statistics in numerical variables\n",
        "\n",
        "print(round(df[numerical].describe()),2)"
      ],
      "execution_count": null,
      "outputs": []
    },
    {
      "metadata": {
        "id": "eia-vyTX2CkT"
      },
      "cell_type": "markdown",
      "source": [
        "On closer inspection, we can see that the `Rainfall`, `Evaporation`, `WindSpeed9am` and `WindSpeed3pm` columns may contain outliers.\n",
        "\n",
        "\n",
        "I will draw boxplots to visualise outliers in the above variables."
      ]
    },
    {
      "metadata": {
        "trusted": true,
        "id": "svLrPMfl2CkT"
      },
      "cell_type": "code",
      "source": [
        "# draw boxplots to visualize outliers\n",
        "\n",
        "plt.figure(figsize=(15,10))\n",
        "\n",
        "\n",
        "plt.subplot(2, 2, 1)\n",
        "fig = df.boxplot(column='Rainfall')\n",
        "fig.set_title('')\n",
        "fig.set_ylabel('Rainfall')\n",
        "\n",
        "\n",
        "plt.subplot(2, 2, 2)\n",
        "fig = df.boxplot(column='Evaporation')\n",
        "fig.set_title('')\n",
        "fig.set_ylabel('Evaporation')\n",
        "\n",
        "\n",
        "plt.subplot(2, 2, 3)\n",
        "fig = df.boxplot(column='WindSpeed9am')\n",
        "fig.set_title('')\n",
        "fig.set_ylabel('WindSpeed9am')\n",
        "\n",
        "\n",
        "plt.subplot(2, 2, 4)\n",
        "fig = df.boxplot(column='WindSpeed3pm')\n",
        "fig.set_title('')\n",
        "fig.set_ylabel('WindSpeed3pm')"
      ],
      "execution_count": null,
      "outputs": []
    },
    {
      "metadata": {
        "id": "JwIYOHBo2CkU"
      },
      "cell_type": "markdown",
      "source": [
        "The above boxplots confirm that there are lot of outliers in these variables."
      ]
    },
    {
      "metadata": {
        "id": "9NxIeJ8l2CkU"
      },
      "cell_type": "markdown",
      "source": [
        "### Check the distribution of variables\n",
        "\n",
        "\n",
        "Now, I will plot the histograms to check distributions to find out if they are normal or skewed. If the variable follows normal distribution, then I will do `Extreme Value Analysis` otherwise if they are skewed, I will find IQR (Interquantile range)."
      ]
    },
    {
      "metadata": {
        "trusted": true,
        "id": "gXMoHB2C2CkU"
      },
      "cell_type": "code",
      "source": [
        "# plot histogram to check distribution\n",
        "\n",
        "plt.figure(figsize=(15,10))\n",
        "\n",
        "\n",
        "plt.subplot(2, 2, 1)\n",
        "fig = df.Rainfall.hist(bins=10)\n",
        "fig.set_xlabel('Rainfall')\n",
        "fig.set_ylabel('RainTomorrow')\n",
        "\n",
        "\n",
        "plt.subplot(2, 2, 2)\n",
        "fig = df.Evaporation.hist(bins=10)\n",
        "fig.set_xlabel('Evaporation')\n",
        "fig.set_ylabel('RainTomorrow')\n",
        "\n",
        "\n",
        "plt.subplot(2, 2, 3)\n",
        "fig = df.WindSpeed9am.hist(bins=10)\n",
        "fig.set_xlabel('WindSpeed9am')\n",
        "fig.set_ylabel('RainTomorrow')\n",
        "\n",
        "\n",
        "plt.subplot(2, 2, 4)\n",
        "fig = df.WindSpeed3pm.hist(bins=10)\n",
        "fig.set_xlabel('WindSpeed3pm')\n",
        "fig.set_ylabel('RainTomorrow')"
      ],
      "execution_count": null,
      "outputs": []
    },
    {
      "metadata": {
        "id": "TS2oe2Ga2CkU"
      },
      "cell_type": "markdown",
      "source": [
        "We can see that all the four variables are skewed. So, I will use interquantile range to find outliers."
      ]
    },
    {
      "metadata": {
        "trusted": true,
        "id": "o8KNxv0s2CkU"
      },
      "cell_type": "code",
      "source": [
        "# find outliers for Rainfall variable\n",
        "\n",
        "IQR = df.Rainfall.quantile(0.75) - df.Rainfall.quantile(0.25)\n",
        "Lower_fence = df.Rainfall.quantile(0.25) - (IQR * 3)\n",
        "Upper_fence = df.Rainfall.quantile(0.75) + (IQR * 3)\n",
        "print('Rainfall outliers are values < {lowerboundary} or > {upperboundary}'.format(lowerboundary=Lower_fence, upperboundary=Upper_fence))\n"
      ],
      "execution_count": null,
      "outputs": []
    },
    {
      "metadata": {
        "id": "aqwOr6jE2CkV"
      },
      "cell_type": "markdown",
      "source": [
        "For `Rainfall`, the minimum and maximum values are 0.0 and 371.0. So, the outliers are values > 3.2."
      ]
    },
    {
      "metadata": {
        "trusted": true,
        "id": "BeMTMN9Z2CkV"
      },
      "cell_type": "code",
      "source": [
        "# find outliers for Evaporation variable\n",
        "\n",
        "IQR = df.Evaporation.quantile(0.75) - df.Evaporation.quantile(0.25)\n",
        "Lower_fence = df.Evaporation.quantile(0.25) - (IQR * 3)\n",
        "Upper_fence = df.Evaporation.quantile(0.75) + (IQR * 3)\n",
        "print('Evaporation outliers are values < {lowerboundary} or > {upperboundary}'.format(lowerboundary=Lower_fence, upperboundary=Upper_fence))\n"
      ],
      "execution_count": null,
      "outputs": []
    },
    {
      "metadata": {
        "id": "Skm5mdb_2CkV"
      },
      "cell_type": "markdown",
      "source": [
        "For `Evaporation`, the minimum and maximum values are 0.0 and 145.0. So, the outliers are values > 21.8."
      ]
    },
    {
      "metadata": {
        "trusted": true,
        "id": "FjPU02TI2CkV"
      },
      "cell_type": "code",
      "source": [
        "# find outliers for WindSpeed9am variable\n",
        "\n",
        "IQR = df.WindSpeed9am.quantile(0.75) - df.WindSpeed9am.quantile(0.25)\n",
        "Lower_fence = df.WindSpeed9am.quantile(0.25) - (IQR * 3)\n",
        "Upper_fence = df.WindSpeed9am.quantile(0.75) + (IQR * 3)\n",
        "print('WindSpeed9am outliers are values < {lowerboundary} or > {upperboundary}'.format(lowerboundary=Lower_fence, upperboundary=Upper_fence))\n"
      ],
      "execution_count": null,
      "outputs": []
    },
    {
      "metadata": {
        "id": "7984Et8D2CkW"
      },
      "cell_type": "markdown",
      "source": [
        "For `WindSpeed9am`, the minimum and maximum values are 0.0 and 130.0. So, the outliers are values > 55.0."
      ]
    },
    {
      "metadata": {
        "trusted": true,
        "id": "DXAwKaXB2CkW"
      },
      "cell_type": "code",
      "source": [
        "# find outliers for WindSpeed3pm variable\n",
        "\n",
        "IQR = df.WindSpeed3pm.quantile(0.75) - df.WindSpeed3pm.quantile(0.25)\n",
        "Lower_fence = df.WindSpeed3pm.quantile(0.25) - (IQR * 3)\n",
        "Upper_fence = df.WindSpeed3pm.quantile(0.75) + (IQR * 3)\n",
        "print('WindSpeed3pm outliers are values < {lowerboundary} or > {upperboundary}'.format(lowerboundary=Lower_fence, upperboundary=Upper_fence))\n"
      ],
      "execution_count": null,
      "outputs": []
    },
    {
      "metadata": {
        "id": "yJYLk6IV2CkW"
      },
      "cell_type": "markdown",
      "source": [
        "For `WindSpeed3pm`, the minimum and maximum values are 0.0 and 87.0. So, the outliers are values > 57.0."
      ]
    },
    {
      "metadata": {
        "id": "ax4ZwzQd2CkW"
      },
      "cell_type": "markdown",
      "source": [
        "# **8. Declare feature vector and target variable** <a class=\"anchor\" id=\"8\"></a>\n",
        "\n",
        "\n",
        "[Table of Contents](#0.1)"
      ]
    },
    {
      "metadata": {
        "trusted": true,
        "id": "zd68sJdN2CkX"
      },
      "cell_type": "code",
      "source": [
        "X = df.drop(['RainTomorrow'], axis=1)\n",
        "\n",
        "y = df['RainTomorrow']"
      ],
      "execution_count": null,
      "outputs": []
    },
    {
      "metadata": {
        "id": "41bovP5Y2CkX"
      },
      "cell_type": "markdown",
      "source": [
        "# **9. Split data into separate training and test set** <a class=\"anchor\" id=\"9\"></a>\n",
        "\n",
        "\n",
        "[Table of Contents](#0.1)"
      ]
    },
    {
      "metadata": {
        "trusted": true,
        "id": "aUBjM9ea2CkX"
      },
      "cell_type": "code",
      "source": [
        "# split X and y into training and testing sets\n",
        "\n",
        "from sklearn.model_selection import train_test_split\n",
        "\n",
        "X_train, X_test, y_train, y_test = train_test_split(X, y, test_size = 0.2, random_state = 0)\n"
      ],
      "execution_count": null,
      "outputs": []
    },
    {
      "metadata": {
        "trusted": true,
        "id": "OyJzgicF2CkX"
      },
      "cell_type": "code",
      "source": [
        "# check the shape of X_train and X_test\n",
        "\n",
        "X_train.shape, X_test.shape"
      ],
      "execution_count": null,
      "outputs": []
    },
    {
      "metadata": {
        "id": "8yDDekbj2CkX"
      },
      "cell_type": "markdown",
      "source": [
        "# **10. Feature Engineering** <a class=\"anchor\" id=\"10\"></a>\n",
        "\n",
        "\n",
        "[Table of Contents](#0.1)\n",
        "\n",
        "\n",
        "**Feature Engineering** is the process of transforming raw data into useful features that help us to understand our model better and increase its predictive power. I will carry out feature engineering on different types of variables.\n",
        "\n",
        "\n",
        "First, I will display the categorical and numerical variables again separately."
      ]
    },
    {
      "metadata": {
        "trusted": true,
        "id": "zp9Flvic2CkY"
      },
      "cell_type": "code",
      "source": [
        "# check data types in X_train\n",
        "\n",
        "X_train.dtypes"
      ],
      "execution_count": null,
      "outputs": []
    },
    {
      "metadata": {
        "trusted": true,
        "id": "gUW_OJvu2CkY"
      },
      "cell_type": "code",
      "source": [
        "# display categorical variables\n",
        "\n",
        "categorical = [col for col in X_train.columns if X_train[col].dtypes == 'O']\n",
        "\n",
        "categorical"
      ],
      "execution_count": null,
      "outputs": []
    },
    {
      "metadata": {
        "trusted": true,
        "id": "nkJgIapa2CkY"
      },
      "cell_type": "code",
      "source": [
        "# display numerical variables\n",
        "\n",
        "numerical = [col for col in X_train.columns if X_train[col].dtypes != 'O']\n",
        "\n",
        "numerical"
      ],
      "execution_count": null,
      "outputs": []
    },
    {
      "metadata": {
        "id": "A0rsgv6r2CkY"
      },
      "cell_type": "markdown",
      "source": [
        "### Engineering missing values in numerical variables\n",
        "\n"
      ]
    },
    {
      "metadata": {
        "trusted": true,
        "id": "rjmyhzVV2CkZ"
      },
      "cell_type": "code",
      "source": [
        "# check missing values in numerical variables in X_train\n",
        "\n",
        "X_train[numerical].isnull().sum()"
      ],
      "execution_count": null,
      "outputs": []
    },
    {
      "metadata": {
        "trusted": true,
        "id": "4fpesJPq2CkZ"
      },
      "cell_type": "code",
      "source": [
        "# check missing values in numerical variables in X_test\n",
        "\n",
        "X_test[numerical].isnull().sum()"
      ],
      "execution_count": null,
      "outputs": []
    },
    {
      "metadata": {
        "trusted": true,
        "id": "DcPjqJ_32CkZ"
      },
      "cell_type": "code",
      "source": [
        "# print percentage of missing values in the numerical variables in training set\n",
        "\n",
        "for col in numerical:\n",
        "    if X_train[col].isnull().mean()>0:\n",
        "        print(col, round(X_train[col].isnull().mean(),4))"
      ],
      "execution_count": null,
      "outputs": []
    },
    {
      "metadata": {
        "id": "8TCBBecO2CkZ"
      },
      "cell_type": "markdown",
      "source": [
        "### Assumption\n",
        "\n",
        "\n",
        "I assume that the data are missing completely at random (MCAR). There are two methods which can be used to impute missing values. One is mean or median imputation and other one is random sample imputation. When there are outliers in the dataset, we should use median imputation. So, I will use median imputation because median imputation is robust to outliers.\n",
        "\n",
        "\n",
        "I will impute missing values with the appropriate statistical measures of the data, in this case median. Imputation should be done over the training set, and then propagated to the test set. It means that the statistical measures to be used to fill missing values both in train and test set, should be extracted from the train set only. This is to avoid overfitting."
      ]
    },
    {
      "metadata": {
        "trusted": true,
        "id": "Yu46PuLW2Cka"
      },
      "cell_type": "code",
      "source": [
        "# impute missing values in X_train and X_test with respective column median in X_train\n",
        "\n",
        "for df1 in [X_train, X_test]:\n",
        "    for col in numerical:\n",
        "        col_median=X_train[col].median()\n",
        "        df1[col].fillna(col_median, inplace=True)\n",
        ""
      ],
      "execution_count": null,
      "outputs": []
    },
    {
      "metadata": {
        "trusted": true,
        "id": "_repHCSi2Cka"
      },
      "cell_type": "code",
      "source": [
        "# check again missing values in numerical variables in X_train\n",
        "\n",
        "X_train[numerical].isnull().sum()"
      ],
      "execution_count": null,
      "outputs": []
    },
    {
      "metadata": {
        "trusted": true,
        "id": "wkbnlAbo2Cka"
      },
      "cell_type": "code",
      "source": [
        "# check missing values in numerical variables in X_test\n",
        "\n",
        "X_test[numerical].isnull().sum()"
      ],
      "execution_count": null,
      "outputs": []
    },
    {
      "metadata": {
        "id": "0Eth1fXh2Ckb"
      },
      "cell_type": "markdown",
      "source": [
        "Now, we can see that there are no missing values in the numerical columns of training and test set."
      ]
    },
    {
      "metadata": {
        "id": "fCnbZ66a2Ckb"
      },
      "cell_type": "markdown",
      "source": [
        "### Engineering missing values in categorical variables"
      ]
    },
    {
      "metadata": {
        "trusted": true,
        "id": "q5XFPNKY2Ckb"
      },
      "cell_type": "code",
      "source": [
        "# print percentage of missing values in the categorical variables in training set\n",
        "\n",
        "X_train[categorical].isnull().mean()"
      ],
      "execution_count": null,
      "outputs": []
    },
    {
      "metadata": {
        "trusted": true,
        "id": "4WVLC8nD2Ckb"
      },
      "cell_type": "code",
      "source": [
        "# print categorical variables with missing data\n",
        "\n",
        "for col in categorical:\n",
        "    if X_train[col].isnull().mean()>0:\n",
        "        print(col, (X_train[col].isnull().mean()))"
      ],
      "execution_count": null,
      "outputs": []
    },
    {
      "metadata": {
        "trusted": true,
        "id": "ooXO0f9s2Ckb"
      },
      "cell_type": "code",
      "source": [
        "# impute missing categorical variables with most frequent value\n",
        "\n",
        "for df2 in [X_train, X_test]:\n",
        "    df2['WindGustDir'].fillna(X_train['WindGustDir'].mode()[0], inplace=True)\n",
        "    df2['WindDir9am'].fillna(X_train['WindDir9am'].mode()[0], inplace=True)\n",
        "    df2['WindDir3pm'].fillna(X_train['WindDir3pm'].mode()[0], inplace=True)\n",
        "    df2['RainToday'].fillna(X_train['RainToday'].mode()[0], inplace=True)"
      ],
      "execution_count": null,
      "outputs": []
    },
    {
      "metadata": {
        "trusted": true,
        "id": "hQh31gU62Ckc"
      },
      "cell_type": "code",
      "source": [
        "# check missing values in categorical variables in X_train\n",
        "\n",
        "X_train[categorical].isnull().sum()"
      ],
      "execution_count": null,
      "outputs": []
    },
    {
      "metadata": {
        "trusted": true,
        "id": "xUNP3gQB2Ckc"
      },
      "cell_type": "code",
      "source": [
        "# check missing values in categorical variables in X_test\n",
        "\n",
        "X_test[categorical].isnull().sum()"
      ],
      "execution_count": null,
      "outputs": []
    },
    {
      "metadata": {
        "id": "1GTEso1q2Ckc"
      },
      "cell_type": "markdown",
      "source": [
        "As a final check, I will check for missing values in X_train and X_test."
      ]
    },
    {
      "metadata": {
        "trusted": true,
        "id": "kb2zzn7F2Ckc"
      },
      "cell_type": "code",
      "source": [
        "# check missing values in X_train\n",
        "\n",
        "X_train.isnull().sum()"
      ],
      "execution_count": null,
      "outputs": []
    },
    {
      "metadata": {
        "trusted": true,
        "id": "z9LtdxHR2Ckd"
      },
      "cell_type": "code",
      "source": [
        "# check missing values in X_test\n",
        "\n",
        "X_test.isnull().sum()"
      ],
      "execution_count": null,
      "outputs": []
    },
    {
      "metadata": {
        "id": "fNYcvOyf2Ckd"
      },
      "cell_type": "markdown",
      "source": [
        "We can see that there are no missing values in X_train and X_test."
      ]
    },
    {
      "metadata": {
        "id": "O7ezPDw22Ckd"
      },
      "cell_type": "markdown",
      "source": [
        "### Engineering outliers in numerical variables\n",
        "\n",
        "\n",
        "We have seen that the `Rainfall`, `Evaporation`, `WindSpeed9am` and `WindSpeed3pm` columns contain outliers. I will use top-coding approach to cap maximum values and remove outliers from the above variables."
      ]
    },
    {
      "metadata": {
        "trusted": true,
        "id": "OZ8V2iRK2Cke"
      },
      "cell_type": "code",
      "source": [
        "def max_value(df3, variable, top):\n",
        "    return np.where(df3[variable]>top, top, df3[variable])\n",
        "\n",
        "for df3 in [X_train, X_test]:\n",
        "    df3['Rainfall'] = max_value(df3, 'Rainfall', 3.2)\n",
        "    df3['Evaporation'] = max_value(df3, 'Evaporation', 21.8)\n",
        "    df3['WindSpeed9am'] = max_value(df3, 'WindSpeed9am', 55)\n",
        "    df3['WindSpeed3pm'] = max_value(df3, 'WindSpeed3pm', 57)"
      ],
      "execution_count": null,
      "outputs": []
    },
    {
      "metadata": {
        "trusted": true,
        "id": "ipI6_hM72Cke"
      },
      "cell_type": "code",
      "source": [
        "X_train.Rainfall.max(), X_test.Rainfall.max()"
      ],
      "execution_count": null,
      "outputs": []
    },
    {
      "metadata": {
        "trusted": true,
        "id": "0_Pul-rc2Cke"
      },
      "cell_type": "code",
      "source": [
        "X_train.Evaporation.max(), X_test.Evaporation.max()"
      ],
      "execution_count": null,
      "outputs": []
    },
    {
      "metadata": {
        "trusted": true,
        "id": "5JE-_4un2Cke"
      },
      "cell_type": "code",
      "source": [
        "X_train.WindSpeed9am.max(), X_test.WindSpeed9am.max()"
      ],
      "execution_count": null,
      "outputs": []
    },
    {
      "metadata": {
        "trusted": true,
        "id": "IvPUQ1-O2Ckf"
      },
      "cell_type": "code",
      "source": [
        "X_train.WindSpeed3pm.max(), X_test.WindSpeed3pm.max()"
      ],
      "execution_count": null,
      "outputs": []
    },
    {
      "metadata": {
        "trusted": true,
        "id": "t6uZSdls2Ckf"
      },
      "cell_type": "code",
      "source": [
        "X_train[numerical].describe()"
      ],
      "execution_count": null,
      "outputs": []
    },
    {
      "metadata": {
        "id": "ZXDlu6Br2Ckf"
      },
      "cell_type": "markdown",
      "source": [
        "We can now see that the outliers in `Rainfall`, `Evaporation`, `WindSpeed9am` and `WindSpeed3pm` columns are capped."
      ]
    },
    {
      "metadata": {
        "id": "fEJGOmjy2Ckf"
      },
      "cell_type": "markdown",
      "source": [
        "### Encode categorical variables"
      ]
    },
    {
      "metadata": {
        "trusted": true,
        "id": "afmwF-BR2Ckg"
      },
      "cell_type": "code",
      "source": [
        "categorical"
      ],
      "execution_count": null,
      "outputs": []
    },
    {
      "metadata": {
        "trusted": true,
        "id": "mE2QBQeh2Ckg"
      },
      "cell_type": "code",
      "source": [
        "X_train[categorical].head()"
      ],
      "execution_count": null,
      "outputs": []
    },
    {
      "metadata": {
        "trusted": true,
        "id": "NiIoJqES2Ckg"
      },
      "cell_type": "code",
      "source": [
        "# encode RainToday variable\n",
        "\n",
        "import category_encoders as ce\n",
        "\n",
        "encoder = ce.BinaryEncoder(cols=['RainToday'])\n",
        "\n",
        "X_train = encoder.fit_transform(X_train)\n",
        "\n",
        "X_test = encoder.transform(X_test)"
      ],
      "execution_count": null,
      "outputs": []
    },
    {
      "metadata": {
        "trusted": true,
        "id": "UdmxA2cJ2Ckg"
      },
      "cell_type": "code",
      "source": [
        "X_train.head()"
      ],
      "execution_count": null,
      "outputs": []
    },
    {
      "metadata": {
        "id": "1X455P8n2Ckh"
      },
      "cell_type": "markdown",
      "source": [
        "We can see that two additional variables `RainToday_0` and `RainToday_1` are created from `RainToday` variable.\n",
        "\n",
        "Now, I will create the `X_train` training set."
      ]
    },
    {
      "metadata": {
        "trusted": true,
        "id": "Gj2-fXt42Ckh"
      },
      "cell_type": "code",
      "source": [
        "X_train = pd.concat([X_train[numerical], X_train[['RainToday_0', 'RainToday_1']],\n",
        "                     pd.get_dummies(X_train.Location),\n",
        "                     pd.get_dummies(X_train.WindGustDir),\n",
        "                     pd.get_dummies(X_train.WindDir9am),\n",
        "                     pd.get_dummies(X_train.WindDir3pm)], axis=1)"
      ],
      "execution_count": null,
      "outputs": []
    },
    {
      "metadata": {
        "trusted": true,
        "id": "xNNXy_lA2Ckh"
      },
      "cell_type": "code",
      "source": [
        "X_train.head()"
      ],
      "execution_count": null,
      "outputs": []
    },
    {
      "metadata": {
        "id": "K1fs9kRi2Ckh"
      },
      "cell_type": "markdown",
      "source": [
        "Similarly, I will create the `X_test` testing set."
      ]
    },
    {
      "metadata": {
        "trusted": true,
        "id": "B5e6M9Wv2Ckh"
      },
      "cell_type": "code",
      "source": [
        "X_test = pd.concat([X_test[numerical], X_test[['RainToday_0', 'RainToday_1']],\n",
        "                     pd.get_dummies(X_test.Location),\n",
        "                     pd.get_dummies(X_test.WindGustDir),\n",
        "                     pd.get_dummies(X_test.WindDir9am),\n",
        "                     pd.get_dummies(X_test.WindDir3pm)], axis=1)"
      ],
      "execution_count": null,
      "outputs": []
    },
    {
      "metadata": {
        "trusted": true,
        "id": "pjQWuE7J2Cki"
      },
      "cell_type": "code",
      "source": [
        "X_test.head()"
      ],
      "execution_count": null,
      "outputs": []
    },
    {
      "metadata": {
        "id": "42MBIJQu2Cki"
      },
      "cell_type": "markdown",
      "source": [
        "We now have training and testing set ready for model building. Before that, we should map all the feature variables onto the same scale. It is called `feature scaling`. I will do it as follows."
      ]
    },
    {
      "metadata": {
        "id": "ZjSgIKw12Cki"
      },
      "cell_type": "markdown",
      "source": [
        "# **11. Feature Scaling** <a class=\"anchor\" id=\"11\"></a>\n",
        "\n",
        "\n",
        "[Table of Contents](#0.1)"
      ]
    },
    {
      "metadata": {
        "trusted": true,
        "id": "ZZKdAsiW2Cki"
      },
      "cell_type": "code",
      "source": [
        "X_train.describe()"
      ],
      "execution_count": null,
      "outputs": []
    },
    {
      "metadata": {
        "trusted": true,
        "id": "jdcliYtY2Cki"
      },
      "cell_type": "code",
      "source": [
        "cols = X_train.columns"
      ],
      "execution_count": null,
      "outputs": []
    },
    {
      "metadata": {
        "trusted": true,
        "id": "jx0KJMoF2Cki"
      },
      "cell_type": "code",
      "source": [
        "from sklearn.preprocessing import MinMaxScaler\n",
        "\n",
        "scaler = MinMaxScaler()\n",
        "\n",
        "X_train = scaler.fit_transform(X_train)\n",
        "\n",
        "X_test = scaler.transform(X_test)\n"
      ],
      "execution_count": null,
      "outputs": []
    },
    {
      "metadata": {
        "trusted": true,
        "id": "3Cm1Ae1M2Ckj"
      },
      "cell_type": "code",
      "source": [
        "X_train = pd.DataFrame(X_train, columns=[cols])"
      ],
      "execution_count": null,
      "outputs": []
    },
    {
      "metadata": {
        "trusted": true,
        "id": "wEkgjUF_2Ckj"
      },
      "cell_type": "code",
      "source": [
        "X_test = pd.DataFrame(X_test, columns=[cols])"
      ],
      "execution_count": null,
      "outputs": []
    },
    {
      "metadata": {
        "trusted": true,
        "id": "T4WHdOZE2Ckj"
      },
      "cell_type": "code",
      "source": [
        "X_train.describe()"
      ],
      "execution_count": null,
      "outputs": []
    },
    {
      "metadata": {
        "id": "Jr_habEB2Ckj"
      },
      "cell_type": "markdown",
      "source": [
        "We now have `X_train` dataset ready to be fed into the Logistic Regression classifier. I will do it as follows."
      ]
    },
    {
      "metadata": {
        "id": "VvQjJv1Z2Ckj"
      },
      "cell_type": "markdown",
      "source": [
        "# **12. Model training** <a class=\"anchor\" id=\"12\"></a>\n",
        "\n",
        "\n",
        "[Table of Contents](#0.1)"
      ]
    },
    {
      "metadata": {
        "trusted": true,
        "id": "n4sXSvYr2Ckk"
      },
      "cell_type": "code",
      "source": [
        "# train a logistic regression model on the training set\n",
        "from sklearn.linear_model import LogisticRegression\n",
        "\n",
        "\n",
        "# instantiate the model\n",
        "logreg = LogisticRegression(solver='liblinear', random_state=0)\n",
        "\n",
        "\n",
        "# fit the model\n",
        "logreg.fit(X_train, y_train)\n"
      ],
      "execution_count": null,
      "outputs": []
    },
    {
      "metadata": {
        "id": "8VnIpSVT2Ckk"
      },
      "cell_type": "markdown",
      "source": [
        "# **13. Predict results** <a class=\"anchor\" id=\"13\"></a>\n",
        "\n",
        "\n",
        "[Table of Contents](#0.1)"
      ]
    },
    {
      "metadata": {
        "trusted": true,
        "id": "OlOh2lDG2Ckk"
      },
      "cell_type": "code",
      "source": [
        "y_pred_test = logreg.predict(X_test)\n",
        "\n",
        "y_pred_test"
      ],
      "execution_count": null,
      "outputs": []
    },
    {
      "metadata": {
        "id": "aeBdJESI2Ckk"
      },
      "cell_type": "markdown",
      "source": [
        "### predict_proba method\n",
        "\n",
        "\n",
        "**predict_proba** method gives the probabilities for the target variable(0 and 1) in this case, in array form.\n",
        "\n",
        "`0 is for probability of no rain` and `1 is for probability of rain.`"
      ]
    },
    {
      "metadata": {
        "trusted": true,
        "id": "xIocQf-q2Ckk"
      },
      "cell_type": "code",
      "source": [
        "# probability of getting output as 0 - no rain\n",
        "\n",
        "logreg.predict_proba(X_test)[:,0]"
      ],
      "execution_count": null,
      "outputs": []
    },
    {
      "metadata": {
        "trusted": true,
        "id": "AMQ8cNT52Ckl"
      },
      "cell_type": "code",
      "source": [
        "# probability of getting output as 1 - rain\n",
        "\n",
        "logreg.predict_proba(X_test)[:,1]"
      ],
      "execution_count": null,
      "outputs": []
    },
    {
      "metadata": {
        "id": "nFt86bZy2Ckl"
      },
      "cell_type": "markdown",
      "source": [
        "# **14. Check accuracy score** <a class=\"anchor\" id=\"14\"></a>\n",
        "\n",
        "\n",
        "[Table of Contents](#0.1)"
      ]
    },
    {
      "metadata": {
        "trusted": true,
        "id": "anR8nD5f2Ckl"
      },
      "cell_type": "code",
      "source": [
        "from sklearn.metrics import accuracy_score\n",
        "\n",
        "print('Model accuracy score: {0:0.4f}'. format(accuracy_score(y_test, y_pred_test)))"
      ],
      "execution_count": null,
      "outputs": []
    },
    {
      "metadata": {
        "id": "9iN8jc2g2Ckl"
      },
      "cell_type": "markdown",
      "source": [
        "Here, **y_test** are the true class labels and **y_pred_test** are the predicted class labels in the test-set."
      ]
    },
    {
      "metadata": {
        "id": "POByrcS02Ckl"
      },
      "cell_type": "markdown",
      "source": [
        "### Compare the train-set and test-set accuracy\n",
        "\n",
        "\n",
        "Now, I will compare the train-set and test-set accuracy to check for overfitting."
      ]
    },
    {
      "metadata": {
        "trusted": true,
        "id": "_NjzKcAL2Ckm"
      },
      "cell_type": "code",
      "source": [
        "y_pred_train = logreg.predict(X_train)\n",
        "\n",
        "y_pred_train"
      ],
      "execution_count": null,
      "outputs": []
    },
    {
      "metadata": {
        "trusted": true,
        "id": "0xgqIf3c2Ckm"
      },
      "cell_type": "code",
      "source": [
        "print('Training-set accuracy score: {0:0.4f}'. format(accuracy_score(y_train, y_pred_train)))"
      ],
      "execution_count": null,
      "outputs": []
    },
    {
      "metadata": {
        "id": "TgUn_ObG2Ckm"
      },
      "cell_type": "markdown",
      "source": [
        "### Check for overfitting and underfitting"
      ]
    },
    {
      "metadata": {
        "trusted": true,
        "id": "A1w32I742Ckm"
      },
      "cell_type": "code",
      "source": [
        "# print the scores on training and test set\n",
        "\n",
        "print('Training set score: {:.4f}'.format(logreg.score(X_train, y_train)))\n",
        "\n",
        "print('Test set score: {:.4f}'.format(logreg.score(X_test, y_test)))"
      ],
      "execution_count": null,
      "outputs": []
    },
    {
      "metadata": {
        "id": "ITy2cQe22Ckm"
      },
      "cell_type": "markdown",
      "source": [
        "The training-set accuracy score is 0.8476 while the test-set accuracy to be 0.8501. These two values are quite comparable. So, there is no question of overfitting.\n"
      ]
    },
    {
      "metadata": {
        "id": "nqwKqBfL2Ckm"
      },
      "cell_type": "markdown",
      "source": [
        "In Logistic Regression, we use default value of C = 1. It provides good performance with approximately 85% accuracy on both the training and the test set. But the model performance on both the training and test set are very comparable. It is likely the case of underfitting.\n",
        "\n",
        "I will increase C and fit a more flexible model."
      ]
    },
    {
      "metadata": {
        "trusted": true,
        "id": "VewDIMjE2Ckm"
      },
      "cell_type": "code",
      "source": [
        "# fit the Logsitic Regression model with C=100\n",
        "\n",
        "# instantiate the model\n",
        "logreg100 = LogisticRegression(C=100, solver='liblinear', random_state=0)\n",
        "\n",
        "\n",
        "# fit the model\n",
        "logreg100.fit(X_train, y_train)"
      ],
      "execution_count": null,
      "outputs": []
    },
    {
      "metadata": {
        "trusted": true,
        "id": "0YDFNFMG2Ckn"
      },
      "cell_type": "code",
      "source": [
        "# print the scores on training and test set\n",
        "\n",
        "print('Training set score: {:.4f}'.format(logreg100.score(X_train, y_train)))\n",
        "\n",
        "print('Test set score: {:.4f}'.format(logreg100.score(X_test, y_test)))"
      ],
      "execution_count": null,
      "outputs": []
    },
    {
      "metadata": {
        "id": "AKszqCSR2Ckn"
      },
      "cell_type": "markdown",
      "source": [
        "We can see that, C=100 results in higher test set accuracy and also a slightly increased training set accuracy. So, we can conclude that a more complex model should perform better."
      ]
    },
    {
      "metadata": {
        "id": "pdMJDxTu2Ckn"
      },
      "cell_type": "markdown",
      "source": [
        "Now, I will investigate, what happens if we use more regularized model than the default value of C=1, by setting C=0.01."
      ]
    },
    {
      "metadata": {
        "trusted": true,
        "id": "BFc76uXW2Ckn"
      },
      "cell_type": "code",
      "source": [
        "# fit the Logsitic Regression model with C=001\n",
        "\n",
        "# instantiate the model\n",
        "logreg001 = LogisticRegression(C=0.01, solver='liblinear', random_state=0)\n",
        "\n",
        "\n",
        "# fit the model\n",
        "logreg001.fit(X_train, y_train)"
      ],
      "execution_count": null,
      "outputs": []
    },
    {
      "metadata": {
        "trusted": true,
        "id": "5IyHTgTX2Ckn"
      },
      "cell_type": "code",
      "source": [
        "# print the scores on training and test set\n",
        "\n",
        "print('Training set score: {:.4f}'.format(logreg001.score(X_train, y_train)))\n",
        "\n",
        "print('Test set score: {:.4f}'.format(logreg001.score(X_test, y_test)))"
      ],
      "execution_count": null,
      "outputs": []
    },
    {
      "metadata": {
        "id": "XHeKz5mi2Ckn"
      },
      "cell_type": "markdown",
      "source": [
        "So, if we use more regularized model by setting C=0.01, then both the training and test set accuracy decrease relatiev to the default parameters."
      ]
    },
    {
      "metadata": {
        "id": "yg4g1cVJ2Ckn"
      },
      "cell_type": "markdown",
      "source": [
        "### Compare model accuracy with null accuracy\n",
        "\n",
        "\n",
        "So, the model accuracy is 0.8501. But, we cannot say that our model is very good based on the above accuracy. We must compare it with the **null accuracy**. Null accuracy is the accuracy that could be achieved by always predicting the most frequent class.\n",
        "\n",
        "So, we should first check the class distribution in the test set."
      ]
    },
    {
      "metadata": {
        "trusted": true,
        "id": "khW9TOpK2Ckn"
      },
      "cell_type": "code",
      "source": [
        "# check class distribution in test set\n",
        "\n",
        "y_test.value_counts()"
      ],
      "execution_count": null,
      "outputs": []
    },
    {
      "metadata": {
        "id": "P74c0FVG2Cko"
      },
      "cell_type": "markdown",
      "source": [
        "We can see that the occurences of most frequent class is 22067. So, we can calculate null accuracy by dividing 22067 by total number of occurences."
      ]
    },
    {
      "metadata": {
        "trusted": true,
        "id": "poKKGAbn2Cko"
      },
      "cell_type": "code",
      "source": [
        "# check null accuracy score\n",
        "\n",
        "null_accuracy = (22067/(22067+6372))\n",
        "\n",
        "print('Null accuracy score: {0:0.4f}'. format(null_accuracy))"
      ],
      "execution_count": null,
      "outputs": []
    },
    {
      "metadata": {
        "id": "vAE7WEGO2Ckp"
      },
      "cell_type": "markdown",
      "source": [
        "We can see that our model accuracy score is 0.8501 but null accuracy score is 0.7759. So, we can conclude that our Logistic Regression model is doing a very good job in predicting the class labels."
      ]
    },
    {
      "metadata": {
        "id": "tJgfGbJM2Ckp"
      },
      "cell_type": "markdown",
      "source": [
        "Now, based on the above analysis we can conclude that our classification model accuracy is very good. Our model is doing a very good job in terms of predicting the class labels.\n",
        "\n",
        "\n",
        "But, it does not give the underlying distribution of values. Also, it does not tell anything about the type of errors our classifer is making.\n",
        "\n",
        "\n",
        "We have another tool called `Confusion matrix` that comes to our rescue."
      ]
    },
    {
      "metadata": {
        "id": "Eh65raJI2Ckq"
      },
      "cell_type": "markdown",
      "source": [
        "# **15. Confusion matrix** <a class=\"anchor\" id=\"15\"></a>\n",
        "\n",
        "\n",
        "[Table of Contents](#0.1)\n",
        "\n",
        "\n",
        "A confusion matrix is a tool for summarizing the performance of a classification algorithm. A confusion matrix will give us a clear picture of classification model performance and the types of errors produced by the model. It gives us a summary of correct and incorrect predictions broken down by each category. The summary is represented in a tabular form.\n",
        "\n",
        "\n",
        "Four types of outcomes are possible while evaluating a classification model performance. These four outcomes are described below:-\n",
        "\n",
        "\n",
        "**True Positives (TP)** – True Positives occur when we predict an observation belongs to a certain class and the observation actually belongs to that class.\n",
        "\n",
        "\n",
        "**True Negatives (TN)** – True Negatives occur when we predict an observation does not belong to a certain class and the observation actually does not belong to that class.\n",
        "\n",
        "\n",
        "**False Positives (FP)** – False Positives occur when we predict an observation belongs to a    certain class but the observation actually does not belong to that class. This type of error is called **Type I error.**\n",
        "\n",
        "\n",
        "\n",
        "**False Negatives (FN)** – False Negatives occur when we predict an observation does not belong to a certain class but the observation actually belongs to that class. This is a very serious error and it is called **Type II error.**\n",
        "\n",
        "\n",
        "\n",
        "These four outcomes are summarized in a confusion matrix given below.\n"
      ]
    },
    {
      "metadata": {
        "trusted": true,
        "id": "ZHe9PWG92Ckq"
      },
      "cell_type": "code",
      "source": [
        "# Print the Confusion Matrix and slice it into four pieces\n",
        "\n",
        "from sklearn.metrics import confusion_matrix\n",
        "\n",
        "cm = confusion_matrix(y_test, y_pred_test)\n",
        "\n",
        "print('Confusion matrix\\n\\n', cm)\n",
        "\n",
        "print('\\nTrue Positives(TP) = ', cm[0,0])\n",
        "\n",
        "print('\\nTrue Negatives(TN) = ', cm[1,1])\n",
        "\n",
        "print('\\nFalse Positives(FP) = ', cm[0,1])\n",
        "\n",
        "print('\\nFalse Negatives(FN) = ', cm[1,0])"
      ],
      "execution_count": null,
      "outputs": []
    },
    {
      "metadata": {
        "id": "GZElo6M42Ckq"
      },
      "cell_type": "markdown",
      "source": [
        "The confusion matrix shows `20892 + 3285 = 24177 correct predictions` and `3087 + 1175 = 4262 incorrect predictions`.\n",
        "\n",
        "\n",
        "In this case, we have\n",
        "\n",
        "\n",
        "- `True Positives` (Actual Positive:1 and Predict Positive:1) - 20892\n",
        "\n",
        "\n",
        "- `True Negatives` (Actual Negative:0 and Predict Negative:0) - 3285\n",
        "\n",
        "\n",
        "- `False Positives` (Actual Negative:0 but Predict Positive:1) - 1175 `(Type I error)`\n",
        "\n",
        "\n",
        "- `False Negatives` (Actual Positive:1 but Predict Negative:0) - 3087 `(Type II error)`"
      ]
    },
    {
      "metadata": {
        "trusted": true,
        "id": "aI4C6plM2Ckq"
      },
      "cell_type": "code",
      "source": [
        "# visualize confusion matrix with seaborn heatmap\n",
        "\n",
        "cm_matrix = pd.DataFrame(data=cm, columns=['Actual Positive:1', 'Actual Negative:0'],\n",
        "                                 index=['Predict Positive:1', 'Predict Negative:0'])\n",
        "\n",
        "sns.heatmap(cm_matrix, annot=True, fmt='d', cmap='YlGnBu')"
      ],
      "execution_count": null,
      "outputs": []
    },
    {
      "metadata": {
        "id": "M_El_OSa2Ckq"
      },
      "cell_type": "markdown",
      "source": [
        "# **16. Classification metrices** <a class=\"anchor\" id=\"16\"></a>\n",
        "\n",
        "\n",
        "[Table of Contents](#0.1)"
      ]
    },
    {
      "metadata": {
        "id": "cemokvE12Ckq"
      },
      "cell_type": "markdown",
      "source": [
        "## Classification Report\n",
        "\n",
        "\n",
        "**Classification report** is another way to evaluate the classification model performance. It displays the  **precision**, **recall**, **f1** and **support** scores for the model. I have described these terms in later.\n",
        "\n",
        "We can print a classification report as follows:-"
      ]
    },
    {
      "metadata": {
        "trusted": true,
        "id": "FZLzGUPe2Ckq"
      },
      "cell_type": "code",
      "source": [
        "from sklearn.metrics import classification_report\n",
        "\n",
        "print(classification_report(y_test, y_pred_test))"
      ],
      "execution_count": null,
      "outputs": []
    },
    {
      "metadata": {
        "id": "lbNw0gr32Ckr"
      },
      "cell_type": "markdown",
      "source": [
        "## Classification accuracy"
      ]
    },
    {
      "metadata": {
        "trusted": true,
        "id": "Rm_3KgYH2Ckr"
      },
      "cell_type": "code",
      "source": [
        "TP = cm[0,0]\n",
        "TN = cm[1,1]\n",
        "FP = cm[0,1]\n",
        "FN = cm[1,0]"
      ],
      "execution_count": null,
      "outputs": []
    },
    {
      "metadata": {
        "trusted": true,
        "id": "C0NF8FqS2Ckr"
      },
      "cell_type": "code",
      "source": [
        "# print classification accuracy\n",
        "\n",
        "classification_accuracy = (TP + TN) / float(TP + TN + FP + FN)\n",
        "\n",
        "print('Classification accuracy : {0:0.4f}'.format(classification_accuracy))\n"
      ],
      "execution_count": null,
      "outputs": []
    },
    {
      "metadata": {
        "id": "GpIpGfsV2Ckv"
      },
      "cell_type": "markdown",
      "source": [
        "## Classification error"
      ]
    },
    {
      "metadata": {
        "trusted": true,
        "id": "DO_kFScr2Ckv"
      },
      "cell_type": "code",
      "source": [
        "# print classification error\n",
        "\n",
        "classification_error = (FP + FN) / float(TP + TN + FP + FN)\n",
        "\n",
        "print('Classification error : {0:0.4f}'.format(classification_error))\n"
      ],
      "execution_count": null,
      "outputs": []
    },
    {
      "metadata": {
        "id": "76qcUk0k2Ckw"
      },
      "cell_type": "markdown",
      "source": [
        "## Precision\n",
        "\n",
        "\n",
        "**Precision** can be defined as the percentage of correctly predicted positive outcomes out of all the predicted positive outcomes. It can be given as the ratio of true positives (TP) to the sum of true and false positives (TP + FP).\n",
        "\n",
        "\n",
        "So, **Precision** identifies the proportion of correctly predicted positive outcome. It is more concerned with the positive class than the negative class.\n",
        "\n",
        "\n",
        "\n",
        "Mathematically, precision can be defined as the ratio of `TP to (TP + FP).`\n",
        "\n",
        "\n"
      ]
    },
    {
      "metadata": {
        "trusted": true,
        "id": "Vsx_NUkN2Ckw"
      },
      "cell_type": "code",
      "source": [
        "# print precision score\n",
        "\n",
        "precision = TP / float(TP + FP)\n",
        "\n",
        "\n",
        "print('Precision : {0:0.4f}'.format(precision))\n"
      ],
      "execution_count": null,
      "outputs": []
    },
    {
      "metadata": {
        "id": "f9yj_c2N2Ckw"
      },
      "cell_type": "markdown",
      "source": [
        "## Recall\n",
        "\n",
        "\n",
        "Recall can be defined as the percentage of correctly predicted positive outcomes out of all the actual positive outcomes.\n",
        "It can be given as the ratio of true positives (TP) to the sum of true positives and false negatives (TP + FN). **Recall** is also called **Sensitivity**.\n",
        "\n",
        "\n",
        "**Recall** identifies the proportion of correctly predicted actual positives.\n",
        "\n",
        "\n",
        "Mathematically, recall can be given as the ratio of `TP to (TP + FN).`\n",
        "\n",
        "\n",
        "\n"
      ]
    },
    {
      "metadata": {
        "trusted": true,
        "id": "fpCE5Tvu2Ckw"
      },
      "cell_type": "code",
      "source": [
        "recall = TP / float(TP + FN)\n",
        "\n",
        "print('Recall or Sensitivity : {0:0.4f}'.format(recall))"
      ],
      "execution_count": null,
      "outputs": []
    },
    {
      "metadata": {
        "id": "FXMxC4lL2Ckw"
      },
      "cell_type": "markdown",
      "source": [
        "## True Positive Rate\n",
        "\n",
        "\n",
        "**True Positive Rate** is synonymous with **Recall**.\n"
      ]
    },
    {
      "metadata": {
        "trusted": true,
        "id": "6jO93PND2Ckx"
      },
      "cell_type": "code",
      "source": [
        "true_positive_rate = TP / float(TP + FN)\n",
        "\n",
        "\n",
        "print('True Positive Rate : {0:0.4f}'.format(true_positive_rate))"
      ],
      "execution_count": null,
      "outputs": []
    },
    {
      "metadata": {
        "id": "AABnq3Sc2Ckx"
      },
      "cell_type": "markdown",
      "source": [
        "## False Positive Rate"
      ]
    },
    {
      "metadata": {
        "trusted": true,
        "id": "Zhuejn6K2Ckx"
      },
      "cell_type": "code",
      "source": [
        "false_positive_rate = FP / float(FP + TN)\n",
        "\n",
        "\n",
        "print('False Positive Rate : {0:0.4f}'.format(false_positive_rate))"
      ],
      "execution_count": null,
      "outputs": []
    },
    {
      "metadata": {
        "id": "OVvE7r5-2Ckx"
      },
      "cell_type": "markdown",
      "source": [
        "## Specificity"
      ]
    },
    {
      "metadata": {
        "trusted": true,
        "id": "JFoFjxrQ2Cky"
      },
      "cell_type": "code",
      "source": [
        "specificity = TN / (TN + FP)\n",
        "\n",
        "print('Specificity : {0:0.4f}'.format(specificity))"
      ],
      "execution_count": null,
      "outputs": []
    },
    {
      "metadata": {
        "id": "LeI6qorr2Cky"
      },
      "cell_type": "markdown",
      "source": [
        "## f1-score\n",
        "\n",
        "\n",
        "**f1-score** is the weighted harmonic mean of precision and recall. The best possible **f1-score** would be 1.0 and the worst\n",
        "would be 0.0.  **f1-score** is the harmonic mean of precision and recall. So, **f1-score** is always lower than accuracy measures as they embed precision and recall into their computation. The weighted average of `f1-score` should be used to\n",
        "compare classifier models, not global accuracy.\n",
        "\n"
      ]
    },
    {
      "metadata": {
        "id": "k67xEU082Cky"
      },
      "cell_type": "markdown",
      "source": [
        "## Support\n",
        "\n",
        "\n",
        "**Support** is the actual number of occurrences of the class in our dataset."
      ]
    },
    {
      "metadata": {
        "id": "cNFii5M12Cky"
      },
      "cell_type": "markdown",
      "source": [
        "# **17. Adjusting the threshold level** <a class=\"anchor\" id=\"17\"></a>\n",
        "\n",
        "\n",
        "[Table of Contents](#0.1)"
      ]
    },
    {
      "metadata": {
        "trusted": true,
        "id": "GQyCypVB2Cky"
      },
      "cell_type": "code",
      "source": [
        "# print the first 10 predicted probabilities of two classes- 0 and 1\n",
        "\n",
        "y_pred_prob = logreg.predict_proba(X_test)[0:10]\n",
        "\n",
        "y_pred_prob"
      ],
      "execution_count": null,
      "outputs": []
    },
    {
      "metadata": {
        "id": "gzCpHkvE2Ckz"
      },
      "cell_type": "markdown",
      "source": [
        "### Observations\n",
        "\n",
        "\n",
        "- In each row, the numbers sum to 1.\n",
        "\n",
        "\n",
        "- There are 2 columns which correspond to 2 classes - 0 and 1.\n",
        "\n",
        "    - Class 0 - predicted probability that there is no rain tomorrow.    \n",
        "    \n",
        "    - Class 1 - predicted probability that there is rain tomorrow.\n",
        "        \n",
        "    \n",
        "- Importance of predicted probabilities\n",
        "\n",
        "    - We can rank the observations by probability of rain or no rain.\n",
        "\n",
        "\n",
        "- predict_proba process\n",
        "\n",
        "    - Predicts the probabilities    \n",
        "    \n",
        "    - Choose the class with the highest probability    \n",
        "    \n",
        "    \n",
        "- Classification threshold level\n",
        "\n",
        "    - There is a classification threshold level of 0.5.    \n",
        "    \n",
        "    - Class 1 - probability of rain is predicted if probability > 0.5.    \n",
        "    \n",
        "    - Class 0 - probability of no rain is predicted if probability < 0.5.    \n",
        "    \n"
      ]
    },
    {
      "metadata": {
        "trusted": true,
        "id": "Vsa16hmM2Ckz"
      },
      "cell_type": "code",
      "source": [
        "# store the probabilities in dataframe\n",
        "\n",
        "y_pred_prob_df = pd.DataFrame(data=y_pred_prob, columns=['Prob of - No rain tomorrow (0)', 'Prob of - Rain tomorrow (1)'])\n",
        "\n",
        "y_pred_prob_df"
      ],
      "execution_count": null,
      "outputs": []
    },
    {
      "metadata": {
        "trusted": true,
        "id": "wiHCybLC2Ckz"
      },
      "cell_type": "code",
      "source": [
        "# print the first 10 predicted probabilities for class 1 - Probability of rain\n",
        "\n",
        "logreg.predict_proba(X_test)[0:10, 1]"
      ],
      "execution_count": null,
      "outputs": []
    },
    {
      "metadata": {
        "trusted": true,
        "id": "eHaoit7W2Ckz"
      },
      "cell_type": "code",
      "source": [
        "# store the predicted probabilities for class 1 - Probability of rain\n",
        "\n",
        "y_pred1 = logreg.predict_proba(X_test)[:, 1]"
      ],
      "execution_count": null,
      "outputs": []
    },
    {
      "metadata": {
        "trusted": true,
        "id": "Ooky8fFE2Ckz"
      },
      "cell_type": "code",
      "source": [
        "# plot histogram of predicted probabilities\n",
        "\n",
        "\n",
        "# adjust the font size\n",
        "plt.rcParams['font.size'] = 12\n",
        "\n",
        "\n",
        "# plot histogram with 10 bins\n",
        "plt.hist(y_pred1, bins = 10)\n",
        "\n",
        "\n",
        "# set the title of predicted probabilities\n",
        "plt.title('Histogram of predicted probabilities of rain')\n",
        "\n",
        "\n",
        "# set the x-axis limit\n",
        "plt.xlim(0,1)\n",
        "\n",
        "\n",
        "# set the title\n",
        "plt.xlabel('Predicted probabilities of rain')\n",
        "plt.ylabel('Frequency')"
      ],
      "execution_count": null,
      "outputs": []
    },
    {
      "metadata": {
        "id": "txbf-VQs2Ck0"
      },
      "cell_type": "markdown",
      "source": [
        "### Observations\n",
        "\n",
        "\n",
        "- We can see that the above histogram is highly positive skewed.\n",
        "\n",
        "\n",
        "- The first column tell us that there are approximately 15000 observations with probability between 0.0 and 0.1.\n",
        "\n",
        "\n",
        "- There are small number of observations with probability > 0.5.\n",
        "\n",
        "\n",
        "- So, these small number of observations predict that there will be rain tomorrow.\n",
        "\n",
        "\n",
        "- Majority of observations predict that there will be no rain tomorrow."
      ]
    },
    {
      "metadata": {
        "id": "Rp3z6zQ42Ck0"
      },
      "cell_type": "markdown",
      "source": [
        "### Lower the threshold"
      ]
    },
    {
      "metadata": {
        "trusted": true,
        "id": "CErgz2sC2Ck0"
      },
      "cell_type": "code",
      "source": [
        "from sklearn.preprocessing import binarize\n",
        "\n",
        "for i in range(1,5):\n",
        "\n",
        "    cm1=0\n",
        "\n",
        "    y_pred1 = logreg.predict_proba(X_test)[:,1]\n",
        "\n",
        "    y_pred1 = y_pred1.reshape(-1,1)\n",
        "\n",
        "    y_pred2 = binarize(y_pred1, i/10)\n",
        "\n",
        "    y_pred2 = np.where(y_pred2 == 1, 'Yes', 'No')\n",
        "\n",
        "    cm1 = confusion_matrix(y_test, y_pred2)\n",
        "\n",
        "    print ('With',i/10,'threshold the Confusion Matrix is ','\\n\\n',cm1,'\\n\\n',\n",
        "\n",
        "            'with',cm1[0,0]+cm1[1,1],'correct predictions, ', '\\n\\n',\n",
        "\n",
        "            cm1[0,1],'Type I errors( False Positives), ','\\n\\n',\n",
        "\n",
        "            cm1[1,0],'Type II errors( False Negatives), ','\\n\\n',\n",
        "\n",
        "           'Accuracy score: ', (accuracy_score(y_test, y_pred2)), '\\n\\n',\n",
        "\n",
        "           'Sensitivity: ',cm1[1,1]/(float(cm1[1,1]+cm1[1,0])), '\\n\\n',\n",
        "\n",
        "           'Specificity: ',cm1[0,0]/(float(cm1[0,0]+cm1[0,1])),'\\n\\n',\n",
        "\n",
        "            '====================================================', '\\n\\n')"
      ],
      "execution_count": null,
      "outputs": []
    },
    {
      "metadata": {
        "id": "-_e0Fkk62Ck0"
      },
      "cell_type": "markdown",
      "source": [
        "### Comments\n",
        "\n",
        "\n",
        "- In binary problems, the threshold of 0.5 is used by default to convert predicted probabilities into class predictions.\n",
        "\n",
        "\n",
        "- Threshold can be adjusted to increase sensitivity or specificity.\n",
        "\n",
        "\n",
        "- Sensitivity and specificity have an inverse relationship. Increasing one would always decrease the other and vice versa.\n",
        "\n",
        "\n",
        "- We can see that increasing the threshold level results in increased accuracy.\n",
        "\n",
        "\n",
        "- Adjusting the threshold level should be one of the last step you do in the model-building process."
      ]
    },
    {
      "metadata": {
        "id": "P7QpQEg42Ck1"
      },
      "cell_type": "markdown",
      "source": [
        "# **18. ROC - AUC** <a class=\"anchor\" id=\"18\"></a>\n",
        "\n",
        "\n",
        "[Table of Contents](#0.1)\n",
        "\n",
        "\n",
        "\n",
        "## ROC Curve\n",
        "\n",
        "\n",
        "Another tool to measure the classification model performance visually is **ROC Curve**. ROC Curve stands for **Receiver Operating Characteristic Curve**. An **ROC Curve** is a plot which shows the performance of a classification model at various\n",
        "classification threshold levels.\n",
        "\n",
        "\n",
        "\n",
        "The **ROC Curve** plots the **True Positive Rate (TPR)** against the **False Positive Rate (FPR)** at various threshold levels.\n",
        "\n",
        "\n",
        "\n",
        "**True Positive Rate (TPR)** is also called **Recall**. It is defined as the ratio of `TP to (TP + FN).`\n",
        "\n",
        "\n",
        "\n",
        "**False Positive Rate (FPR)** is defined as the ratio of `FP to (FP + TN).`\n",
        "\n",
        "\n",
        "\n",
        "\n",
        "In the ROC Curve, we will focus on the TPR (True Positive Rate) and FPR (False Positive Rate) of a single point. This will give us the general performance of the ROC curve which consists of the TPR and FPR at various threshold levels. So, an ROC Curve plots TPR vs FPR at different classification threshold levels. If we lower the threshold levels, it may result in more items being classified as positve. It will increase both True Positives (TP) and False Positives (FP).\n",
        "\n"
      ]
    },
    {
      "metadata": {
        "trusted": true,
        "id": "jRnKbMhR2Ck1"
      },
      "cell_type": "code",
      "source": [
        "# plot ROC Curve\n",
        "\n",
        "from sklearn.metrics import roc_curve\n",
        "\n",
        "fpr, tpr, thresholds = roc_curve(y_test, y_pred1, pos_label = 'Yes')\n",
        "\n",
        "plt.figure(figsize=(6,4))\n",
        "\n",
        "plt.plot(fpr, tpr, linewidth=2)\n",
        "\n",
        "plt.plot([0,1], [0,1], 'k--' )\n",
        "\n",
        "plt.rcParams['font.size'] = 12\n",
        "\n",
        "plt.title('ROC curve for RainTomorrow classifier')\n",
        "\n",
        "plt.xlabel('False Positive Rate (1 - Specificity)')\n",
        "\n",
        "plt.ylabel('True Positive Rate (Sensitivity)')\n",
        "\n",
        "plt.show()\n"
      ],
      "execution_count": null,
      "outputs": []
    },
    {
      "metadata": {
        "id": "PbFcvpDL2Ck1"
      },
      "cell_type": "markdown",
      "source": [
        "ROC curve help us to choose a threshold level that balances sensitivity and specificity for a particular context."
      ]
    },
    {
      "metadata": {
        "id": "qdFYL7uO2Ck1"
      },
      "cell_type": "markdown",
      "source": [
        "## ROC-AUC\n",
        "\n",
        "\n",
        "**ROC AUC** stands for **Receiver Operating Characteristic - Area Under Curve**. It is a technique to compare classifier performance. In this technique, we measure the `area under the curve (AUC)`. A perfect classifier will have a ROC AUC equal to 1, whereas a purely random classifier will have a ROC AUC equal to 0.5.\n",
        "\n",
        "\n",
        "So, **ROC AUC** is the percentage of the ROC plot that is underneath the curve."
      ]
    },
    {
      "metadata": {
        "trusted": true,
        "id": "fmH85RA32Ck2"
      },
      "cell_type": "code",
      "source": [
        "# compute ROC AUC\n",
        "\n",
        "from sklearn.metrics import roc_auc_score\n",
        "\n",
        "ROC_AUC = roc_auc_score(y_test, y_pred1)\n",
        "\n",
        "print('ROC AUC : {:.4f}'.format(ROC_AUC))"
      ],
      "execution_count": null,
      "outputs": []
    },
    {
      "metadata": {
        "id": "tM0f7Ug12Ck2"
      },
      "cell_type": "markdown",
      "source": [
        "### Comments\n",
        "\n",
        "\n",
        "- ROC AUC is a single number summary of classifier performance. The higher the value, the better the classifier.\n",
        "\n",
        "- ROC AUC of our model approaches towards 1. So, we can conclude that our classifier does a good job in predicting whether it will rain tomorrow or not."
      ]
    },
    {
      "metadata": {
        "trusted": true,
        "id": "8oJ9ofcD2Ck2"
      },
      "cell_type": "code",
      "source": [
        "# calculate cross-validated ROC AUC\n",
        "\n",
        "from sklearn.model_selection import cross_val_score\n",
        "\n",
        "Cross_validated_ROC_AUC = cross_val_score(logreg, X_train, y_train, cv=5, scoring='roc_auc').mean()\n",
        "\n",
        "print('Cross validated ROC AUC : {:.4f}'.format(Cross_validated_ROC_AUC))"
      ],
      "execution_count": null,
      "outputs": []
    },
    {
      "metadata": {
        "id": "yWw1K__V2Ck2"
      },
      "cell_type": "markdown",
      "source": [
        "# **19. k-Fold Cross Validation** <a class=\"anchor\" id=\"19\"></a>\n",
        "\n",
        "\n",
        "[Table of Contents](#0.1)"
      ]
    },
    {
      "metadata": {
        "trusted": true,
        "id": "gmwzUafr2Ck3"
      },
      "cell_type": "code",
      "source": [
        "# Applying 5-Fold Cross Validation\n",
        "\n",
        "from sklearn.model_selection import cross_val_score\n",
        "\n",
        "scores = cross_val_score(logreg, X_train, y_train, cv = 5, scoring='accuracy')\n",
        "\n",
        "print('Cross-validation scores:{}'.format(scores))"
      ],
      "execution_count": null,
      "outputs": []
    },
    {
      "metadata": {
        "id": "aFlb8Tjt2Ck3"
      },
      "cell_type": "markdown",
      "source": [
        "We can summarize the cross-validation accuracy by calculating its mean."
      ]
    },
    {
      "metadata": {
        "trusted": true,
        "id": "oNuTeh_T2Ck3"
      },
      "cell_type": "code",
      "source": [
        "# compute Average cross-validation score\n",
        "\n",
        "print('Average cross-validation score: {:.4f}'.format(scores.mean()))"
      ],
      "execution_count": null,
      "outputs": []
    },
    {
      "metadata": {
        "id": "dZM31wp82Ck3"
      },
      "cell_type": "markdown",
      "source": [
        "Our, original model score is found to be 0.8476. The average cross-validation score is 0.8474. So, we can conclude that cross-validation does not result in performance improvement."
      ]
    },
    {
      "metadata": {
        "id": "nM93PUTv2Ck3"
      },
      "cell_type": "markdown",
      "source": [
        "# **20. Hyperparameter Optimization using GridSearch CV** <a class=\"anchor\" id=\"20\"></a>\n",
        "\n",
        "\n",
        "[Table of Contents](#0.1)"
      ]
    },
    {
      "metadata": {
        "scrolled": true,
        "trusted": true,
        "id": "jJ9LTQcT2Ck4"
      },
      "cell_type": "code",
      "source": [
        "from sklearn.model_selection import GridSearchCV\n",
        "\n",
        "\n",
        "parameters = [{'penalty':['l1','l2']},\n",
        "              {'C':[1, 10, 100, 1000]}]\n",
        "\n",
        "\n",
        "\n",
        "grid_search = GridSearchCV(estimator = logreg,\n",
        "                           param_grid = parameters,\n",
        "                           scoring = 'accuracy',\n",
        "                           cv = 5,\n",
        "                           verbose=0)\n",
        "\n",
        "\n",
        "grid_search.fit(X_train, y_train)\n"
      ],
      "execution_count": null,
      "outputs": []
    },
    {
      "metadata": {
        "trusted": true,
        "id": "NSyew9Ug2Ck4"
      },
      "cell_type": "code",
      "source": [
        "# examine the best model\n",
        "\n",
        "# best score achieved during the GridSearchCV\n",
        "print('GridSearch CV best score : {:.4f}\\n\\n'.format(grid_search.best_score_))\n",
        "\n",
        "# print parameters that give the best results\n",
        "print('Parameters that give the best results :','\\n\\n', (grid_search.best_params_))\n",
        "\n",
        "# print estimator that was chosen by the GridSearch\n",
        "print('\\n\\nEstimator that was chosen by the search :','\\n\\n', (grid_search.best_estimator_))"
      ],
      "execution_count": null,
      "outputs": []
    },
    {
      "metadata": {
        "trusted": true,
        "id": "c42YCOmq2Ck4"
      },
      "cell_type": "code",
      "source": [
        "# calculate GridSearch CV score on test set\n",
        "\n",
        "print('GridSearch CV score on test set: {0:0.4f}'.format(grid_search.score(X_test, y_test)))"
      ],
      "execution_count": null,
      "outputs": []
    },
    {
      "metadata": {
        "id": "yQ0UzIr52Ck4"
      },
      "cell_type": "markdown",
      "source": [
        "### Comments\n",
        "\n",
        "\n",
        "- Our original model test accuracy is 0.8501 while GridSearch CV accuracy is 0.8507.\n",
        "\n",
        "\n",
        "- We can see that GridSearch CV improve the performance for this particular model."
      ]
    },
    {
      "metadata": {
        "id": "4A-ATpmG2Ck5"
      },
      "cell_type": "markdown",
      "source": [
        "# **21. Results and conclusion** <a class=\"anchor\" id=\"21\"></a>\n",
        "\n",
        "\n",
        "[Table of Contents](#0.1)"
      ]
    },
    {
      "metadata": {
        "id": "zUhAiIm82Ck5"
      },
      "cell_type": "markdown",
      "source": [
        "1.\tThe logistic regression model accuracy score is 0.8501. So, the model does a very good job in predicting whether or not it will rain tomorrow in Australia.\n",
        "\n",
        "2.\tSmall number of observations predict that there will be rain tomorrow. Majority of observations predict that there will be no rain tomorrow.\n",
        "\n",
        "3.\tThe model shows no signs of overfitting.\n",
        "\n",
        "4.\tIncreasing the value of C results in higher test set accuracy and also a slightly increased training set accuracy. So, we can conclude that a more complex model should perform better.\n",
        "\n",
        "5.\tIncreasing the threshold level results in increased accuracy.\n",
        "\n",
        "6.\tROC AUC of our model approaches towards 1. So, we can conclude that our classifier does a good job in predicting whether it will rain tomorrow or not.\n",
        "\n",
        "7.\tOur original model accuracy score is 0.8501 whereas accuracy score after RFECV is 0.8500. So, we can obtain approximately similar accuracy but with reduced set of features.\n",
        "\n",
        "8.\tIn the original model, we have FP = 1175 whereas FP1 = 1174. So, we get approximately same number of false positives. Also, FN = 3087 whereas FN1 = 3091. So, we get slighly higher false negatives.\n",
        "\n",
        "9.\tOur, original model score is found to be 0.8476. The average cross-validation score is 0.8474. So, we can conclude that cross-validation does not result in performance improvement.\n",
        "\n",
        "10.\tOur original model test accuracy is 0.8501 while GridSearch CV accuracy is 0.8507. We can see that GridSearch CV improve the performance for this particular model.\n"
      ]
    },
    {
      "metadata": {
        "id": "7-MQnZHZ2Ck5"
      },
      "cell_type": "markdown",
      "source": [
        "# **22. References** <a class=\"anchor\" id=\"22\"></a>\n",
        "\n",
        "\n",
        "[Table of Contents](#0.1)\n",
        "\n",
        "\n",
        "\n",
        "The work done in this project is inspired from following books and websites:-\n",
        "\n",
        "\n",
        "1. Hands on Machine Learning with Scikit-Learn and Tensorflow by Aurélién Géron\n",
        "\n",
        "2. Introduction to Machine Learning with Python by Andreas C. Müller and Sarah Guido\n",
        "\n",
        "3. Udemy course – Machine Learning – A Z by Kirill Eremenko and Hadelin de Ponteves\n",
        "\n",
        "4. Udemy course – Feature Engineering for Machine Learning by Soledad Galli\n",
        "\n",
        "5. Udemy course – Feature Selection for Machine Learning by Soledad Galli\n",
        "\n",
        "6. https://en.wikipedia.org/wiki/Logistic_regression\n",
        "\n",
        "7. https://ml-cheatsheet.readthedocs.io/en/latest/logistic_regression.html\n",
        "\n",
        "8. https://en.wikipedia.org/wiki/Sigmoid_function\n",
        "\n",
        "9. https://www.statisticssolutions.com/assumptions-of-logistic-regression/\n",
        "\n",
        "10. https://www.kaggle.com/mnassrib/titanic-logistic-regression-with-python\n",
        "\n",
        "11. https://www.kaggle.com/neisha/heart-disease-prediction-using-logistic-regression\n",
        "\n",
        "12. https://www.ritchieng.com/machine-learning-evaluate-classification-model/\n"
      ]
    },
    {
      "metadata": {
        "id": "ZtXhJzV_2Ck6"
      },
      "cell_type": "markdown",
      "source": [
        "So, now we will come to the end of this kernel.\n",
        "\n",
        "I hope you find this kernel useful and enjoyable.\n",
        "\n",
        "Your comments and feedback are most welcome.\n",
        "\n",
        "Thank you\n"
      ]
    },
    {
      "metadata": {
        "trusted": true,
        "id": "m1CdSs7f2Ck6"
      },
      "cell_type": "markdown",
      "source": [
        "[Go to Top](#0)"
      ]
    }
  ],
  "metadata": {
    "kernelspec": {
      "display_name": "Python 3",
      "language": "python",
      "name": "python3"
    },
    "language_info": {
      "codemirror_mode": {
        "name": "ipython",
        "version": 3
      },
      "file_extension": ".py",
      "mimetype": "text/x-python",
      "name": "python",
      "nbconvert_exporter": "python",
      "pygments_lexer": "ipython3",
      "version": "3.7.0"
    },
    "colab": {
      "name": "Logistic Regression Classifier Tutorial",
      "provenance": []
    }
  },
  "nbformat": 4,
  "nbformat_minor": 0
}