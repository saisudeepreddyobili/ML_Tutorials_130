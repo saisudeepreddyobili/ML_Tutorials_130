{
  "cells": [
    {
      "source": [
        "\n",
        "# IMPORTANT: RUN THIS CELL IN ORDER TO IMPORT YOUR KAGGLE DATA SOURCES\n",
        "# TO THE CORRECT LOCATION (/kaggle/input) IN YOUR NOTEBOOK,\n",
        "# THEN FEEL FREE TO DELETE THIS CELL.\n",
        "# NOTE: THIS NOTEBOOK ENVIRONMENT DIFFERS FROM KAGGLE'S PYTHON\n",
        "# ENVIRONMENT SO THERE MAY BE MISSING LIBRARIES USED BY YOUR\n",
        "# NOTEBOOK.\n",
        "\n",
        "import os\n",
        "import sys\n",
        "from tempfile import NamedTemporaryFile\n",
        "from urllib.request import urlopen\n",
        "from urllib.parse import unquote, urlparse\n",
        "from urllib.error import HTTPError\n",
        "from zipfile import ZipFile\n",
        "import tarfile\n",
        "import shutil\n",
        "\n",
        "CHUNK_SIZE = 40960\n",
        "DATA_SOURCE_MAPPING = 'facebook-live-sellers-in-thailand-uci-ml-repo:https%3A%2F%2Fstorage.googleapis.com%2Fkaggle-data-sets%2F260377%2F545527%2Fbundle%2Farchive.zip%3FX-Goog-Algorithm%3DGOOG4-RSA-SHA256%26X-Goog-Credential%3Dgcp-kaggle-com%2540kaggle-161607.iam.gserviceaccount.com%252F20240506%252Fauto%252Fstorage%252Fgoog4_request%26X-Goog-Date%3D20240506T122352Z%26X-Goog-Expires%3D259200%26X-Goog-SignedHeaders%3Dhost%26X-Goog-Signature%3D0b80fe158c988c3bb3f1a9e8c22413eb7c0e97cb933206ef8f3968197b971692d03e5c22c660371e414baecc5a629154a08a8c87ffb82e5879f09f282cbf467fd1348c322be0ffa3f36e886e324edc10d4e944343aa6165d43a81baefc2e101fcae5d08597fe882398450185915c9f17f198ffb6a4110bb8ac56cdd6dbf858bf0e03ac3edf5c26edb60ba0e62daac3009d87d830c854d094fbb39cd62ee375eab3115530b3cd3887d62835ccec02f6ac7ae8255bafa6bf68802f6089a068ca920f51a7cf857b7a752a3efb5208839ea78053593fa2e8c2a2120751eba6ca566c8824a9fb1af86683e0c4fed16ab880a07f54cb8b4de4b24ddb66d84a26f88ce3'\n",
        "\n",
        "KAGGLE_INPUT_PATH='/kaggle/input'\n",
        "KAGGLE_WORKING_PATH='/kaggle/working'\n",
        "KAGGLE_SYMLINK='kaggle'\n",
        "\n",
        "!umount /kaggle/input/ 2> /dev/null\n",
        "shutil.rmtree('/kaggle/input', ignore_errors=True)\n",
        "os.makedirs(KAGGLE_INPUT_PATH, 0o777, exist_ok=True)\n",
        "os.makedirs(KAGGLE_WORKING_PATH, 0o777, exist_ok=True)\n",
        "\n",
        "try:\n",
        "  os.symlink(KAGGLE_INPUT_PATH, os.path.join(\"..\", 'input'), target_is_directory=True)\n",
        "except FileExistsError:\n",
        "  pass\n",
        "try:\n",
        "  os.symlink(KAGGLE_WORKING_PATH, os.path.join(\"..\", 'working'), target_is_directory=True)\n",
        "except FileExistsError:\n",
        "  pass\n",
        "\n",
        "for data_source_mapping in DATA_SOURCE_MAPPING.split(','):\n",
        "    directory, download_url_encoded = data_source_mapping.split(':')\n",
        "    download_url = unquote(download_url_encoded)\n",
        "    filename = urlparse(download_url).path\n",
        "    destination_path = os.path.join(KAGGLE_INPUT_PATH, directory)\n",
        "    try:\n",
        "        with urlopen(download_url) as fileres, NamedTemporaryFile() as tfile:\n",
        "            total_length = fileres.headers['content-length']\n",
        "            print(f'Downloading {directory}, {total_length} bytes compressed')\n",
        "            dl = 0\n",
        "            data = fileres.read(CHUNK_SIZE)\n",
        "            while len(data) > 0:\n",
        "                dl += len(data)\n",
        "                tfile.write(data)\n",
        "                done = int(50 * dl / int(total_length))\n",
        "                sys.stdout.write(f\"\\r[{'=' * done}{' ' * (50-done)}] {dl} bytes downloaded\")\n",
        "                sys.stdout.flush()\n",
        "                data = fileres.read(CHUNK_SIZE)\n",
        "            if filename.endswith('.zip'):\n",
        "              with ZipFile(tfile) as zfile:\n",
        "                zfile.extractall(destination_path)\n",
        "            else:\n",
        "              with tarfile.open(tfile.name) as tarfile:\n",
        "                tarfile.extractall(destination_path)\n",
        "            print(f'\\nDownloaded and uncompressed: {directory}')\n",
        "    except HTTPError as e:\n",
        "        print(f'Failed to load (likely expired) {download_url} to path {destination_path}')\n",
        "        continue\n",
        "    except OSError as e:\n",
        "        print(f'Failed to load {download_url} to path {destination_path}')\n",
        "        continue\n",
        "\n",
        "print('Data source import complete.')\n"
      ],
      "metadata": {
        "id": "lVoZlmaS3EhR"
      },
      "cell_type": "code",
      "outputs": [],
      "execution_count": null
    },
    {
      "metadata": {
        "id": "Con8kIo13EhT"
      },
      "cell_type": "markdown",
      "source": [
        "<a class=\"anchor\" id=\"0\"></a>\n",
        "# **K-Means Clustering with Python**\n",
        "\n",
        "Hello friends,\n",
        "\n",
        "**K-Means clustering** is the most popular unsupervised machine learning algorithm. K-Means clustering is used to find intrinsic groups within the unlabelled dataset and draw inferences from them. In this kernel, I implement K-Means clustering to find intrinsic groups within the dataset that display the same `status_type` behaviour. The `status_type` behaviour variable consists of posts of a different nature (video, photos, statuses and links).\n",
        "\n",
        "\n",
        "So, let's get started."
      ]
    },
    {
      "metadata": {
        "trusted": true,
        "id": "E_fQDVXq3EhU"
      },
      "cell_type": "markdown",
      "source": [
        "**As always, I hope you find this kernel useful and some <font color=\"red\"><b>UPVOTES</b></font> would be highly appreciated**."
      ]
    },
    {
      "metadata": {
        "id": "qfYd04aP3EhU"
      },
      "cell_type": "markdown",
      "source": [
        "<a class=\"anchor\" id=\"0.1\"></a>\n",
        "# **Table of Contents**\n",
        "\n",
        "\n",
        "1.\t[Introduction to K-Means Clustering](#1)\n",
        "1.  [Applications of clustering](#2)\n",
        "1.\t[K-Means Clustering intuition](#3)\n",
        "1.\t[Choosing the value of K](#4)\n",
        "1.\t[The elbow method](#5)\n",
        "1.  [Import libraries](#6)\n",
        "1.\t[Import dataset](#7)\n",
        "1.\t[Exploratory data analysis](#8)\n",
        "1.\t[Declare feature vector and target variable](#9)\n",
        "1.\t[Convert categorical variable into integers](#10)\n",
        "1.\t[Feature scaling](#11)\n",
        "1.\t[K-Means model with two clusters](#12)\n",
        "1.\t[K-Means model parameters study](#13)\n",
        "1.\t[Check quality of weak classification by the model](#14)\n",
        "1.\t[Use elbow method to find optimal number of clusters](#15)\n",
        "1.\t[K-Means model with different clusters](#16)\n",
        "1.\t[Results and conclusion](#17)\n",
        "1.  [References](#18)\n"
      ]
    },
    {
      "metadata": {
        "id": "CqMnBFMh3EhU"
      },
      "cell_type": "markdown",
      "source": [
        "# **1. Introduction to K-Means Clustering** <a class=\"anchor\" id=\"1\"></a>\n",
        "\n",
        "[Table of Contents](#0.1)\n",
        "\n",
        "\n",
        "Machine learning algorithms can be broadly classified into two categories - supervised and unsupervised learning. There are other categories also like semi-supervised learning and reinforcement learning. But, most of the algorithms are classified as supervised or unsupervised learning. The difference between them happens because of presence of target variable. In unsupervised learning, there is no target variable. The dataset only has input variables which describe the data. This is called unsupervised learning.\n",
        "\n",
        "**K-Means clustering** is the most popular unsupervised learning algorithm. It is used when we have unlabelled data which is data without defined categories or groups. The algorithm follows an easy or simple way to classify a given data set through a certain number of clusters, fixed apriori. K-Means algorithm works iteratively to assign each data point to one of K groups based on the features that are provided. Data points are clustered based on feature similarity.\n",
        "\n",
        "K-Means clustering can be represented diagrammatically as follows:-\n"
      ]
    },
    {
      "metadata": {
        "id": "pQeXHDQB3EhU"
      },
      "cell_type": "markdown",
      "source": [
        "## K-Means\n",
        "\n",
        "![K-Means](https://miro.medium.com/max/2160/1*tWaaZX75oumVwBMcKN-eHA.png)"
      ]
    },
    {
      "metadata": {
        "id": "fVO7y5HQ3EhU"
      },
      "cell_type": "markdown",
      "source": [
        "# **2. Applications of clustering** <a class=\"anchor\" id=\"2\"></a>\n",
        "\n",
        "[Table of Contents](#0.1)\n",
        "\n",
        "\n",
        "- K-Means clustering is the most common unsupervised machine learning algorithm. It is widely used for many applications which include-\n",
        "\n",
        "  1. Image segmentation\n",
        "\n",
        "  2. Customer segmentation\n",
        "\n",
        "  3. Species clustering\n",
        "\n",
        "  4. Anomaly detection\n",
        "\n",
        "  5. Clustering languages"
      ]
    },
    {
      "metadata": {
        "id": "FtRpcYjg3EhV"
      },
      "cell_type": "markdown",
      "source": [
        "# **3. K-Means Clustering intuition** <a class=\"anchor\" id=\"3\"></a>\n",
        "\n",
        "[Table of Contents](#0.1)\n",
        "\n",
        "\n",
        "K-Means clustering is used to find intrinsic groups within the unlabelled dataset and draw inferences from them. It is based on centroid-based clustering.\n",
        "\n",
        "\n",
        "**Centroid** - A centroid is a data point at the centre of a cluster. In centroid-based clustering, clusters are represented by a centroid. It is an iterative algorithm in which the notion of similarity is derived by how close a data point is to the centroid of the cluster.\n",
        "K-Means clustering works as follows:-\n",
        "The K-Means clustering algorithm uses an iterative procedure to deliver a final result. The algorithm requires number of clusters K and the data set as input. The data set is a collection of features for each data point. The algorithm starts with initial estimates for the K centroids. The algorithm then iterates between two steps:-\n",
        "\n",
        "\n",
        "## **3.1 Data assignment step**\n",
        "\n",
        "\n",
        "Each centroid defines one of the clusters. In this step, each data point is assigned to its nearest centroid, which is based on the squared Euclidean distance. So, if ci is the collection of centroids in set C, then each data point is assigned to a cluster based on minimum Euclidean distance.\n",
        "\n",
        "\n",
        "\n",
        "## **3.2 Centroid update step**\n",
        "\n",
        "\n",
        "In this step, the centroids are recomputed and updated. This is done by taking the mean of all data points assigned to that centroid’s cluster.\n",
        "\n",
        "\n",
        "The algorithm then iterates between step 1 and step 2 until a stopping criteria is met. Stopping criteria means no data points change the clusters, the sum of the distances is minimized or some maximum number of iterations is reached.\n",
        "This algorithm is guaranteed to converge to a result. The result may be a local optimum meaning that assessing more than one run of the algorithm with randomized starting centroids may give a better outcome.\n",
        "\n",
        "The K-Means intuition can be represented with the help of following diagram:-\n"
      ]
    },
    {
      "metadata": {
        "id": "_mWflY5d3EhV"
      },
      "cell_type": "markdown",
      "source": [
        "## K-Means intuition\n",
        "![K-Means intuition](https://i.ytimg.com/vi/_aWzGGNrcic/hqdefault.jpg)"
      ]
    },
    {
      "metadata": {
        "id": "VUKfEk203EhV"
      },
      "cell_type": "markdown",
      "source": [
        "# **4. Choosing the value of K** <a class=\"anchor\" id=\"4\"></a>\n",
        "\n",
        "[Table of Contents](#0.1)\n",
        "\n",
        "\n",
        "The K-Means algorithm depends upon finding the number of clusters and data labels for a pre-defined value of K. To find the number of clusters in the data, we need to run the K-Means clustering algorithm for different values of K and compare the results. So, the performance of K-Means algorithm depends upon the value of K. We should choose the optimal value of K that gives us best performance. There are different techniques available to find the optimal value of K. The most common technique is the **elbow method** which is described below.\n"
      ]
    },
    {
      "metadata": {
        "id": "b07XSvCZ3EhV"
      },
      "cell_type": "markdown",
      "source": [
        "# **5. The elbow method** <a class=\"anchor\" id=\"5\"></a>\n",
        "\n",
        "[Table of Contents](#0.1)\n",
        "\n",
        "\n",
        "The elbow method is used to determine the optimal number of clusters in K-means clustering. The elbow method plots the value of the cost function produced by different values of K. The below diagram shows how the elbow method works:-"
      ]
    },
    {
      "metadata": {
        "id": "FYxyRIlO3EhV"
      },
      "cell_type": "markdown",
      "source": [
        "## The elbow method\n",
        "\n",
        "![Elbow method in K-Means](https://www.oreilly.com/library/view/statistics-for-machine/9781788295758/assets/995b8b58-06f1-4884-a2a1-f3648428e947.png)"
      ]
    },
    {
      "metadata": {
        "id": "r9dXtzC_3EhV"
      },
      "cell_type": "markdown",
      "source": [
        "We can see that if K increases, average distortion will decrease.  Then each cluster will have fewer constituent instances, and the instances will be closer to their respective centroids. However, the improvements in average distortion will decline as K increases. The value of K at which improvement in distortion declines the most is called the elbow, at which we should stop dividing the data into further clusters.\n"
      ]
    },
    {
      "metadata": {
        "id": "JOpHnm0X3EhW"
      },
      "cell_type": "markdown",
      "source": [
        "# **6. Import libraries** <a class=\"anchor\" id=\"6\"></a>\n",
        "\n",
        "[Table of Contents](#0.1)\n"
      ]
    },
    {
      "metadata": {
        "trusted": true,
        "id": "FAZhiimA3EhW"
      },
      "cell_type": "code",
      "source": [
        "# This Python 3 environment comes with many helpful analytics libraries installed\n",
        "# It is defined by the kaggle/python docker image: https://github.com/kaggle/docker-python\n",
        "# For example, here's several helpful packages to load in\n",
        "\n",
        "import numpy as np # linear algebra\n",
        "import pandas as pd # data processing, CSV file I/O (e.g. pd.read_csv)\n",
        "import matplotlib.pyplot as plt # for data visualization\n",
        "import seaborn as sns # for statistical data visualization\n",
        "%matplotlib inline\n",
        "\n",
        "# Input data files are available in the \"../input/\" directory.\n",
        "# For example, running this (by clicking run or pressing Shift+Enter) will list all files under the input directory\n",
        "\n",
        "import os\n",
        "for dirname, _, filenames in os.walk('/kaggle/input'):\n",
        "    for filename in filenames:\n",
        "        print(os.path.join(dirname, filename))\n",
        "\n",
        "# Any results you write to the current directory are saved as output.\n"
      ],
      "execution_count": null,
      "outputs": []
    },
    {
      "metadata": {
        "id": "SPm6FINL3EhW"
      },
      "cell_type": "markdown",
      "source": [
        "### Ignore warnings\n"
      ]
    },
    {
      "metadata": {
        "trusted": true,
        "id": "pQ28C1Hi3EhW"
      },
      "cell_type": "code",
      "source": [
        "import warnings\n",
        "\n",
        "warnings.filterwarnings('ignore')"
      ],
      "execution_count": null,
      "outputs": []
    },
    {
      "metadata": {
        "id": "gKqo6iHp3EhW"
      },
      "cell_type": "markdown",
      "source": [
        "# **7. Import dataset** <a class=\"anchor\" id=\"7\"></a>\n",
        "\n",
        "[Table of Contents](#0.1)\n",
        "\n"
      ]
    },
    {
      "metadata": {
        "trusted": true,
        "id": "rm9UemkV3EhW"
      },
      "cell_type": "code",
      "source": [
        "data = '/kaggle/input/facebook-live-sellers-in-thailand-uci-ml-repo/Live.csv'\n",
        "\n",
        "df = pd.read_csv(data)\n"
      ],
      "execution_count": null,
      "outputs": []
    },
    {
      "metadata": {
        "id": "3Wu6khFM3EhX"
      },
      "cell_type": "markdown",
      "source": [
        "# **8. Exploratory data analysis** <a class=\"anchor\" id=\"8\"></a>\n",
        "\n",
        "[Table of Contents](#0.1)\n"
      ]
    },
    {
      "metadata": {
        "id": "y788V-_I3EhX"
      },
      "cell_type": "markdown",
      "source": [
        "### Check shape of the dataset"
      ]
    },
    {
      "metadata": {
        "trusted": true,
        "id": "WqB8uBmn3EhX"
      },
      "cell_type": "code",
      "source": [
        "df.shape"
      ],
      "execution_count": null,
      "outputs": []
    },
    {
      "metadata": {
        "id": "DNXl9T7U3EhX"
      },
      "cell_type": "markdown",
      "source": [
        "We can see that there are 7050 instances and 16 attributes in the dataset. In the dataset description, it is given that there are 7051 instances and 12 attributes in the dataset.\n",
        "\n",
        "So, we can infer that the first instance is the row header and there are 4 extra attributes in the dataset. Next, we should take a look at the dataset to gain more insight about it."
      ]
    },
    {
      "metadata": {
        "id": "FBUl6d9y3EhX"
      },
      "cell_type": "markdown",
      "source": [
        "### Preview the dataset"
      ]
    },
    {
      "metadata": {
        "trusted": true,
        "id": "K0jp-tZq3EhX"
      },
      "cell_type": "code",
      "source": [
        "df.head()"
      ],
      "execution_count": null,
      "outputs": []
    },
    {
      "metadata": {
        "id": "ZL4TUY713EhX"
      },
      "cell_type": "markdown",
      "source": [
        "### View summary of dataset"
      ]
    },
    {
      "metadata": {
        "trusted": true,
        "id": "B3MrRfo13EhX"
      },
      "cell_type": "code",
      "source": [
        "df.info()"
      ],
      "execution_count": null,
      "outputs": []
    },
    {
      "metadata": {
        "id": "vFISeKq83EhY"
      },
      "cell_type": "markdown",
      "source": [
        "### Check for missing values in dataset"
      ]
    },
    {
      "metadata": {
        "trusted": true,
        "id": "RGcW2kQc3EhY"
      },
      "cell_type": "code",
      "source": [
        "df.isnull().sum()"
      ],
      "execution_count": null,
      "outputs": []
    },
    {
      "metadata": {
        "id": "3nGwI8cO3EhY"
      },
      "cell_type": "markdown",
      "source": [
        "We can see that there are 4 redundant columns in the dataset. We should drop them before proceeding further."
      ]
    },
    {
      "metadata": {
        "id": "iK6s5SM63EhY"
      },
      "cell_type": "markdown",
      "source": [
        "### Drop redundant columns"
      ]
    },
    {
      "metadata": {
        "trusted": true,
        "id": "zbwPvatg3EhY"
      },
      "cell_type": "code",
      "source": [
        "df.drop(['Column1', 'Column2', 'Column3', 'Column4'], axis=1, inplace=True)"
      ],
      "execution_count": null,
      "outputs": []
    },
    {
      "metadata": {
        "id": "vhVFFO-m3EhY"
      },
      "cell_type": "markdown",
      "source": [
        "### Again view summary of dataset"
      ]
    },
    {
      "metadata": {
        "trusted": true,
        "id": "MEMi0hVH3EhY"
      },
      "cell_type": "code",
      "source": [
        "df.info()"
      ],
      "execution_count": null,
      "outputs": []
    },
    {
      "metadata": {
        "id": "7hPwvF9c3EhY"
      },
      "cell_type": "markdown",
      "source": [
        "Now, we can see that redundant columns have been removed from the dataset.\n",
        "\n",
        "We can see that, there are 3 character variables (data type = object) and remaining 9 numerical variables (data type = int64).\n"
      ]
    },
    {
      "metadata": {
        "id": "i1HSuOfp3EhZ"
      },
      "cell_type": "markdown",
      "source": [
        "### View the statistical summary of numerical variables"
      ]
    },
    {
      "metadata": {
        "trusted": true,
        "id": "bfmGPTwg3EhZ"
      },
      "cell_type": "code",
      "source": [
        "df.describe()"
      ],
      "execution_count": null,
      "outputs": []
    },
    {
      "metadata": {
        "id": "AumcYG0k3EhZ"
      },
      "cell_type": "markdown",
      "source": [
        "There are 3 categorical variables in the dataset. I will explore them one by one."
      ]
    },
    {
      "metadata": {
        "id": "wFPJWk_P3EhZ"
      },
      "cell_type": "markdown",
      "source": [
        "### Explore `status_id` variable"
      ]
    },
    {
      "metadata": {
        "trusted": true,
        "id": "UC1WfDuL3EhZ"
      },
      "cell_type": "code",
      "source": [
        "# view the labels in the variable\n",
        "\n",
        "df['status_id'].unique()"
      ],
      "execution_count": null,
      "outputs": []
    },
    {
      "metadata": {
        "trusted": true,
        "id": "5Np9Fxsf3EhZ"
      },
      "cell_type": "code",
      "source": [
        "# view how many different types of variables are there\n",
        "\n",
        "len(df['status_id'].unique())"
      ],
      "execution_count": null,
      "outputs": []
    },
    {
      "metadata": {
        "id": "zRle8fQZ3EhZ"
      },
      "cell_type": "markdown",
      "source": [
        "We can see that there are 6997 unique labels in the `status_id` variable. The total number of instances in the dataset is 7050. So, it is approximately a unique identifier for each of the instances. Thus this is not a variable that we can use. Hence, I will drop it."
      ]
    },
    {
      "metadata": {
        "id": "zyat3Yb63Eha"
      },
      "cell_type": "markdown",
      "source": [
        "### Explore `status_published` variable"
      ]
    },
    {
      "metadata": {
        "trusted": true,
        "id": "fQGascmL3Eha"
      },
      "cell_type": "code",
      "source": [
        "# view the labels in the variable\n",
        "\n",
        "df['status_published'].unique()"
      ],
      "execution_count": null,
      "outputs": []
    },
    {
      "metadata": {
        "trusted": true,
        "id": "1Bkqp8M53Eha"
      },
      "cell_type": "code",
      "source": [
        "# view how many different types of variables are there\n",
        "\n",
        "len(df['status_published'].unique())"
      ],
      "execution_count": null,
      "outputs": []
    },
    {
      "metadata": {
        "id": "LmkJ9dn83Eha"
      },
      "cell_type": "markdown",
      "source": [
        "Again, we can see that there are 6913 unique labels in the `status_published` variable. The total number of instances in the dataset is 7050. So, it is also a approximately a unique identifier for each of the instances. Thus this is not a variable that we can use. Hence, I will drop it also."
      ]
    },
    {
      "metadata": {
        "id": "O6OzMCLd3Eha"
      },
      "cell_type": "markdown",
      "source": [
        "### Explore `status_type` variable"
      ]
    },
    {
      "metadata": {
        "trusted": true,
        "id": "e2_Yp8r93Eha"
      },
      "cell_type": "code",
      "source": [
        "# view the labels in the variable\n",
        "\n",
        "df['status_type'].unique()"
      ],
      "execution_count": null,
      "outputs": []
    },
    {
      "metadata": {
        "trusted": true,
        "id": "2WPDgD8b3Eha"
      },
      "cell_type": "code",
      "source": [
        "# view how many different types of variables are there\n",
        "\n",
        "len(df['status_type'].unique())"
      ],
      "execution_count": null,
      "outputs": []
    },
    {
      "metadata": {
        "id": "GdUiLIE23Eha"
      },
      "cell_type": "markdown",
      "source": [
        "We can see that there are 4 categories of labels in the `status_type` variable."
      ]
    },
    {
      "metadata": {
        "id": "fOxx83HD3Ehb"
      },
      "cell_type": "markdown",
      "source": [
        "### Drop `status_id` and `status_published` variable from the dataset"
      ]
    },
    {
      "metadata": {
        "trusted": true,
        "id": "ZLOWz6se3Ehb"
      },
      "cell_type": "code",
      "source": [
        "df.drop(['status_id', 'status_published'], axis=1, inplace=True)"
      ],
      "execution_count": null,
      "outputs": []
    },
    {
      "metadata": {
        "id": "PSz9BRwI3Ehb"
      },
      "cell_type": "markdown",
      "source": [
        "### View the summary of dataset again"
      ]
    },
    {
      "metadata": {
        "trusted": true,
        "id": "4vHJ9ZfX3Ehb"
      },
      "cell_type": "code",
      "source": [
        "df.info()"
      ],
      "execution_count": null,
      "outputs": []
    },
    {
      "metadata": {
        "id": "WT9TV4zt3Ehb"
      },
      "cell_type": "markdown",
      "source": [
        "### Preview the dataset again"
      ]
    },
    {
      "metadata": {
        "trusted": true,
        "id": "tFQ02fkH3Ehb"
      },
      "cell_type": "code",
      "source": [
        "df.head()"
      ],
      "execution_count": null,
      "outputs": []
    },
    {
      "metadata": {
        "id": "ErD9envs3Ehb"
      },
      "cell_type": "markdown",
      "source": [
        "We can see that there is 1 non-numeric column `status_type` in the dataset. I will convert it into integer equivalents."
      ]
    },
    {
      "metadata": {
        "id": "l4VMRdpW3Ehb"
      },
      "cell_type": "markdown",
      "source": [
        "# **9. Declare feature vector and target variable** <a class=\"anchor\" id=\"9\"></a>\n",
        "\n",
        "[Table of Contents](#0.1)\n"
      ]
    },
    {
      "metadata": {
        "trusted": true,
        "id": "UbXUXf7h3Ehc"
      },
      "cell_type": "code",
      "source": [
        "X = df\n",
        "\n",
        "y = df['status_type']"
      ],
      "execution_count": null,
      "outputs": []
    },
    {
      "metadata": {
        "id": "iLC_cNwi3Ehc"
      },
      "cell_type": "markdown",
      "source": [
        "# **10. Convert categorical variable into integers** <a class=\"anchor\" id=\"10\"></a>\n",
        "\n",
        "[Table of Contents](#0.1)\n"
      ]
    },
    {
      "metadata": {
        "trusted": true,
        "id": "FxbGLAZ_3Ehc"
      },
      "cell_type": "code",
      "source": [
        "from sklearn.preprocessing import LabelEncoder\n",
        "\n",
        "le = LabelEncoder()\n",
        "\n",
        "X['status_type'] = le.fit_transform(X['status_type'])\n",
        "\n",
        "y = le.transform(y)"
      ],
      "execution_count": null,
      "outputs": []
    },
    {
      "metadata": {
        "id": "fa_v2dHY3Ehc"
      },
      "cell_type": "markdown",
      "source": [
        "### View the summary of X"
      ]
    },
    {
      "metadata": {
        "trusted": true,
        "id": "K3DDXWv43Ehc"
      },
      "cell_type": "code",
      "source": [
        "X.info()"
      ],
      "execution_count": null,
      "outputs": []
    },
    {
      "metadata": {
        "id": "Pkbtegpc3Ehc"
      },
      "cell_type": "markdown",
      "source": [
        "### Preview the dataset X"
      ]
    },
    {
      "metadata": {
        "trusted": true,
        "id": "PQSIIzRB3Ehc"
      },
      "cell_type": "code",
      "source": [
        "X.head()"
      ],
      "execution_count": null,
      "outputs": []
    },
    {
      "metadata": {
        "id": "1de_nqq13Ehc"
      },
      "cell_type": "markdown",
      "source": [
        "# **11. Feature Scaling** <a class=\"anchor\" id=\"11\"></a>\n",
        "\n",
        "[Table of Contents](#0.1)"
      ]
    },
    {
      "metadata": {
        "trusted": true,
        "id": "Pe6Q_ejl3Ehd"
      },
      "cell_type": "code",
      "source": [
        "cols = X.columns"
      ],
      "execution_count": null,
      "outputs": []
    },
    {
      "metadata": {
        "trusted": true,
        "id": "kxNm1gg-3Ehd"
      },
      "cell_type": "code",
      "source": [
        "from sklearn.preprocessing import MinMaxScaler\n",
        "\n",
        "ms = MinMaxScaler()\n",
        "\n",
        "X = ms.fit_transform(X)"
      ],
      "execution_count": null,
      "outputs": []
    },
    {
      "metadata": {
        "trusted": true,
        "id": "uHZir3Lx3Ehd"
      },
      "cell_type": "code",
      "source": [
        "X = pd.DataFrame(X, columns=[cols])"
      ],
      "execution_count": null,
      "outputs": []
    },
    {
      "metadata": {
        "trusted": true,
        "id": "Rj8jp8XY3Ehd"
      },
      "cell_type": "code",
      "source": [
        "X.head()"
      ],
      "execution_count": null,
      "outputs": []
    },
    {
      "metadata": {
        "id": "MvCRmX-J3Ehd"
      },
      "cell_type": "markdown",
      "source": [
        "# **12. K-Means model with two clusters** <a class=\"anchor\" id=\"12\"></a>\n",
        "\n",
        "[Table of Contents](#0.1)"
      ]
    },
    {
      "metadata": {
        "trusted": true,
        "id": "R1vt_rug3Ehd"
      },
      "cell_type": "code",
      "source": [
        "from sklearn.cluster import KMeans\n",
        "\n",
        "kmeans = KMeans(n_clusters=2, random_state=0)\n",
        "\n",
        "kmeans.fit(X)"
      ],
      "execution_count": null,
      "outputs": []
    },
    {
      "metadata": {
        "id": "QR2rQTgn3Ehe"
      },
      "cell_type": "markdown",
      "source": [
        "# **13. K-Means model parameters study** <a class=\"anchor\" id=\"13\"></a>\n",
        "\n",
        "[Table of Contents](#0.1)"
      ]
    },
    {
      "metadata": {
        "trusted": true,
        "id": "TUj4K3ev3Ehe"
      },
      "cell_type": "code",
      "source": [
        "kmeans.cluster_centers_"
      ],
      "execution_count": null,
      "outputs": []
    },
    {
      "metadata": {
        "id": "JjoixBAK3Ehe"
      },
      "cell_type": "markdown",
      "source": [
        "- The KMeans algorithm clusters data by trying to separate samples in n groups of equal variances, minimizing a criterion known as **inertia**, or within-cluster sum-of-squares Inertia, or the within-cluster sum of squares criterion, can be recognized as a measure of how internally coherent clusters are.\n",
        "\n",
        "\n",
        "- The k-means algorithm divides a set of N samples X into K disjoint clusters C, each described by the mean j of the samples in the cluster. The means are commonly called the cluster **centroids**.\n",
        "\n",
        "\n",
        "- The K-means algorithm aims to choose centroids that minimize the inertia, or within-cluster sum of squared criterion."
      ]
    },
    {
      "metadata": {
        "id": "Z9K3UsfF3Ehe"
      },
      "cell_type": "markdown",
      "source": [
        "### Inertia\n",
        "\n",
        "\n",
        "- **Inertia** is not a normalized metric.\n",
        "\n",
        "- The lower values of inertia are better and zero is optimal.\n",
        "\n",
        "- But in very high-dimensional spaces, euclidean distances tend to become inflated (this is an instance of `curse of dimensionality`).\n",
        "\n",
        "- Running a dimensionality reduction algorithm such as PCA prior to k-means clustering can alleviate this problem and speed up the computations.\n",
        "\n",
        "- We can calculate model inertia as follows:-"
      ]
    },
    {
      "metadata": {
        "trusted": true,
        "id": "VVDfSkHM3Ehe"
      },
      "cell_type": "code",
      "source": [
        "kmeans.inertia_"
      ],
      "execution_count": null,
      "outputs": []
    },
    {
      "metadata": {
        "id": "ckpzCi2g3Ehf"
      },
      "cell_type": "markdown",
      "source": [
        "- The lesser the model inertia, the better the model fit.\n",
        "\n",
        "- We can see that the model has very high inertia. So, this is not a good model fit to the data."
      ]
    },
    {
      "metadata": {
        "id": "tHc1f90G3Ehf"
      },
      "cell_type": "markdown",
      "source": [
        " # **14. Check quality of weak classification by the model** <a class=\"anchor\" id=\"14\"></a>\n",
        "\n",
        "[Table of Contents](#0.1)"
      ]
    },
    {
      "metadata": {
        "trusted": true,
        "id": "JxlJkCdZ3Ehf"
      },
      "cell_type": "code",
      "source": [
        "labels = kmeans.labels_\n",
        "\n",
        "# check how many of the samples were correctly labeled\n",
        "correct_labels = sum(y == labels)\n",
        "\n",
        "print(\"Result: %d out of %d samples were correctly labeled.\" % (correct_labels, y.size))\n"
      ],
      "execution_count": null,
      "outputs": []
    },
    {
      "metadata": {
        "trusted": true,
        "id": "xzwFPmM_3Ehf"
      },
      "cell_type": "code",
      "source": [
        "print('Accuracy score: {0:0.2f}'. format(correct_labels/float(y.size)))"
      ],
      "execution_count": null,
      "outputs": []
    },
    {
      "metadata": {
        "id": "hZ-W3wQS3Ehf"
      },
      "cell_type": "markdown",
      "source": [
        "We have achieved a weak classification accuracy of 1% by our unsupervised model."
      ]
    },
    {
      "metadata": {
        "id": "NwZuzZGo3Ehf"
      },
      "cell_type": "markdown",
      "source": [
        "# **15. Use elbow method to find optimal number of clusters** <a class=\"anchor\" id=\"15\"></a>\n",
        "\n",
        "[Table of Contents](#0.1)"
      ]
    },
    {
      "metadata": {
        "trusted": true,
        "id": "VVl40ONR3Ehf"
      },
      "cell_type": "code",
      "source": [
        "from sklearn.cluster import KMeans\n",
        "cs = []\n",
        "for i in range(1, 11):\n",
        "    kmeans = KMeans(n_clusters = i, init = 'k-means++', max_iter = 300, n_init = 10, random_state = 0)\n",
        "    kmeans.fit(X)\n",
        "    cs.append(kmeans.inertia_)\n",
        "plt.plot(range(1, 11), cs)\n",
        "plt.title('The Elbow Method')\n",
        "plt.xlabel('Number of clusters')\n",
        "plt.ylabel('CS')\n",
        "plt.show()\n"
      ],
      "execution_count": null,
      "outputs": []
    },
    {
      "metadata": {
        "id": "5phW7LUv3Ehg"
      },
      "cell_type": "markdown",
      "source": [
        "- By the above plot, we can see that there is a kink at k=2.\n",
        "\n",
        "- Hence k=2 can be considered a good number of the cluster to cluster this data.\n",
        "\n",
        "- But, we have seen that I have achieved a weak classification accuracy of 1% with k=2.\n",
        "\n",
        "- I will write the required code with k=2 again for convinience."
      ]
    },
    {
      "metadata": {
        "trusted": true,
        "id": "eyIo66RO3Ehg"
      },
      "cell_type": "code",
      "source": [
        "from sklearn.cluster import KMeans\n",
        "\n",
        "kmeans = KMeans(n_clusters=2,random_state=0)\n",
        "\n",
        "kmeans.fit(X)\n",
        "\n",
        "labels = kmeans.labels_\n",
        "\n",
        "# check how many of the samples were correctly labeled\n",
        "\n",
        "correct_labels = sum(y == labels)\n",
        "\n",
        "print(\"Result: %d out of %d samples were correctly labeled.\" % (correct_labels, y.size))\n",
        "\n",
        "print('Accuracy score: {0:0.2f}'. format(correct_labels/float(y.size)))"
      ],
      "execution_count": null,
      "outputs": []
    },
    {
      "metadata": {
        "id": "xaixSwMF3Ehg"
      },
      "cell_type": "markdown",
      "source": [
        "So, our weak unsupervised classification model achieved a very weak classification accuracy of 1%."
      ]
    },
    {
      "metadata": {
        "id": "XlEAU3Ck3Ehg"
      },
      "cell_type": "markdown",
      "source": [
        "I will check the model accuracy with different number of clusters."
      ]
    },
    {
      "metadata": {
        "id": "eEsdMrUP3Ehg"
      },
      "cell_type": "markdown",
      "source": [
        "# **16. K-Means model with different clusters** <a class=\"anchor\" id=\"16\"></a>\n",
        "\n",
        "[Table of Contents](#0.1)"
      ]
    },
    {
      "metadata": {
        "id": "5dESnryO3Ehg"
      },
      "cell_type": "markdown",
      "source": [
        "### K-Means model with 3 clusters"
      ]
    },
    {
      "metadata": {
        "trusted": true,
        "id": "QBn-2kNS3Ehg"
      },
      "cell_type": "code",
      "source": [
        "kmeans = KMeans(n_clusters=3, random_state=0)\n",
        "\n",
        "kmeans.fit(X)\n",
        "\n",
        "# check how many of the samples were correctly labeled\n",
        "labels = kmeans.labels_\n",
        "\n",
        "correct_labels = sum(y == labels)\n",
        "print(\"Result: %d out of %d samples were correctly labeled.\" % (correct_labels, y.size))\n",
        "print('Accuracy score: {0:0.2f}'. format(correct_labels/float(y.size)))"
      ],
      "execution_count": null,
      "outputs": []
    },
    {
      "metadata": {
        "id": "Xs3sV1fY3Ehh"
      },
      "cell_type": "markdown",
      "source": [
        "### K-Means model with 4 clusters"
      ]
    },
    {
      "metadata": {
        "trusted": true,
        "id": "00wwVv143Ehh"
      },
      "cell_type": "code",
      "source": [
        "kmeans = KMeans(n_clusters=4, random_state=0)\n",
        "\n",
        "kmeans.fit(X)\n",
        "\n",
        "# check how many of the samples were correctly labeled\n",
        "labels = kmeans.labels_\n",
        "\n",
        "correct_labels = sum(y == labels)\n",
        "print(\"Result: %d out of %d samples were correctly labeled.\" % (correct_labels, y.size))\n",
        "print('Accuracy score: {0:0.2f}'. format(correct_labels/float(y.size)))"
      ],
      "execution_count": null,
      "outputs": []
    },
    {
      "metadata": {
        "id": "mW7Kjlz63Ehh"
      },
      "cell_type": "markdown",
      "source": [
        "We have achieved a relatively high accuracy of 62% with k=4."
      ]
    },
    {
      "metadata": {
        "id": "Cf3Z8-j23Ehh"
      },
      "cell_type": "markdown",
      "source": [
        "# **17. Results and conclusion** <a class=\"anchor\" id=\"17\"></a>\n",
        "\n",
        "[Table of Contents](#0.1)\n",
        "\n",
        "\n",
        "1.\tIn this project, I have implemented the most popular unsupervised clustering technique called **K-Means Clustering**.\n",
        "\n",
        "2.\tI have applied the elbow method and find that k=2 (k is number of clusters) can be considered a good number of cluster to cluster this data.\n",
        "\n",
        "3.\tI have find that the model has very high inertia of 237.7572. So, this is not a good model fit to the data.\n",
        "\n",
        "4.\tI have achieved a weak classification accuracy of 1% with k=2 by our unsupervised model.\n",
        "\n",
        "5.\tSo, I have changed the value of k and find relatively higher classification accuracy of 62% with k=4.\n",
        "\n",
        "6.\tHence, we can conclude that k=4 being the optimal number of clusters.\n"
      ]
    },
    {
      "metadata": {
        "id": "-_uAcI6_3Ehh"
      },
      "cell_type": "markdown",
      "source": [
        "# **18. References** <a class=\"anchor\" id=\"18\"></a>\n",
        "\n",
        "[Table of Contents](#0.1)\n",
        "\n",
        "The work done in this project is inspired from following books and websites:-\n",
        "\n",
        "  1. Udemy course – Machine Learning – A Z by Kirill Eremenko and Hadelin de Ponteves\n",
        "\n",
        "  2. https://en.wikipedia.org/wiki/K-means_clustering\n",
        "\n",
        "  3. https://jakevdp.github.io/PythonDataScienceHandbook/05.11-k-means.html\n",
        "\n",
        "  4. https://www.datacamp.com/community/tutorials/k-means-clustering-python\n",
        "\n",
        "  5. https://www.datascience.com/blog/k-means-clustering\n",
        "\n",
        "  6. https://acadgild.com/blog/k-means-clustering-algorithm\n",
        "\n"
      ]
    },
    {
      "metadata": {
        "id": "X72fxsjH3Ehh"
      },
      "cell_type": "markdown",
      "source": [
        "So, now we will come to the end of this kernel.\n",
        "\n",
        "I hope you find this kernel useful and enjoyable.\n",
        "\n",
        "Your comments and feedback are most welcome.\n",
        "\n",
        "Thank you\n"
      ]
    },
    {
      "metadata": {
        "id": "J0ctPHaZ3Ehh"
      },
      "cell_type": "markdown",
      "source": [
        "[Go to Top](#0)"
      ]
    }
  ],
  "metadata": {
    "kernelspec": {
      "language": "python",
      "display_name": "Python 3",
      "name": "python3"
    },
    "language_info": {
      "pygments_lexer": "ipython3",
      "nbconvert_exporter": "python",
      "version": "3.6.4",
      "file_extension": ".py",
      "codemirror_mode": {
        "name": "ipython",
        "version": 3
      },
      "name": "python",
      "mimetype": "text/x-python"
    },
    "colab": {
      "name": "K-Means Clustering with Python",
      "provenance": []
    }
  },
  "nbformat": 4,
  "nbformat_minor": 0
}