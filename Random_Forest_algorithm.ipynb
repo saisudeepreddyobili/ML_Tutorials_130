{
  "cells": [
    {
      "source": [
        "\n",
        "# IMPORTANT: RUN THIS CELL IN ORDER TO IMPORT YOUR KAGGLE DATA SOURCES\n",
        "# TO THE CORRECT LOCATION (/kaggle/input) IN YOUR NOTEBOOK,\n",
        "# THEN FEEL FREE TO DELETE THIS CELL.\n",
        "# NOTE: THIS NOTEBOOK ENVIRONMENT DIFFERS FROM KAGGLE'S PYTHON\n",
        "# ENVIRONMENT SO THERE MAY BE MISSING LIBRARIES USED BY YOUR\n",
        "# NOTEBOOK.\n",
        "\n",
        "import os\n",
        "import sys\n",
        "from tempfile import NamedTemporaryFile\n",
        "from urllib.request import urlopen\n",
        "from urllib.parse import unquote, urlparse\n",
        "from urllib.error import HTTPError\n",
        "from zipfile import ZipFile\n",
        "import tarfile\n",
        "import shutil\n",
        "\n",
        "CHUNK_SIZE = 40960\n",
        "DATA_SOURCE_MAPPING = 'car-evaluation-data-set:https%3A%2F%2Fstorage.googleapis.com%2Fkaggle-data-sets%2F2298%2F3884%2Fbundle%2Farchive.zip%3FX-Goog-Algorithm%3DGOOG4-RSA-SHA256%26X-Goog-Credential%3Dgcp-kaggle-com%2540kaggle-161607.iam.gserviceaccount.com%252F20240506%252Fauto%252Fstorage%252Fgoog4_request%26X-Goog-Date%3D20240506T122101Z%26X-Goog-Expires%3D259200%26X-Goog-SignedHeaders%3Dhost%26X-Goog-Signature%3D498607a27bb6e43ad6b7cc04b988afb15f11cc5380546bc863e27023b7ae1ac7905d0a6ac04223fdfcbece07d0c766471a9f3e4cadd1d03ac35d3e262b0cb331e0415916c09108d237334b74ecda652c0f03d1e50ab1a978e22f2335a722728e4486a0a3434034939c6a01cb8e96781f6767ef9dabfdbc262af2169aeb410b6a0808cd5d49d6d5148c15b20ea7f38472cc8d8ad4f671792de7d345034722876dd871f21119283fa33f99137d858bddf82a2fb8999fd511934fe4b5eec70bdd8d54c71bb7c6003c38dee768067d8d75ccd0b7be2f12569de930fe713f0723cd984c3fcab2aea8334f4f8688e81561c188f2c78165dd9d99a6d190cbe94d2e03bb'\n",
        "\n",
        "KAGGLE_INPUT_PATH='/kaggle/input'\n",
        "KAGGLE_WORKING_PATH='/kaggle/working'\n",
        "KAGGLE_SYMLINK='kaggle'\n",
        "\n",
        "!umount /kaggle/input/ 2> /dev/null\n",
        "shutil.rmtree('/kaggle/input', ignore_errors=True)\n",
        "os.makedirs(KAGGLE_INPUT_PATH, 0o777, exist_ok=True)\n",
        "os.makedirs(KAGGLE_WORKING_PATH, 0o777, exist_ok=True)\n",
        "\n",
        "try:\n",
        "  os.symlink(KAGGLE_INPUT_PATH, os.path.join(\"..\", 'input'), target_is_directory=True)\n",
        "except FileExistsError:\n",
        "  pass\n",
        "try:\n",
        "  os.symlink(KAGGLE_WORKING_PATH, os.path.join(\"..\", 'working'), target_is_directory=True)\n",
        "except FileExistsError:\n",
        "  pass\n",
        "\n",
        "for data_source_mapping in DATA_SOURCE_MAPPING.split(','):\n",
        "    directory, download_url_encoded = data_source_mapping.split(':')\n",
        "    download_url = unquote(download_url_encoded)\n",
        "    filename = urlparse(download_url).path\n",
        "    destination_path = os.path.join(KAGGLE_INPUT_PATH, directory)\n",
        "    try:\n",
        "        with urlopen(download_url) as fileres, NamedTemporaryFile() as tfile:\n",
        "            total_length = fileres.headers['content-length']\n",
        "            print(f'Downloading {directory}, {total_length} bytes compressed')\n",
        "            dl = 0\n",
        "            data = fileres.read(CHUNK_SIZE)\n",
        "            while len(data) > 0:\n",
        "                dl += len(data)\n",
        "                tfile.write(data)\n",
        "                done = int(50 * dl / int(total_length))\n",
        "                sys.stdout.write(f\"\\r[{'=' * done}{' ' * (50-done)}] {dl} bytes downloaded\")\n",
        "                sys.stdout.flush()\n",
        "                data = fileres.read(CHUNK_SIZE)\n",
        "            if filename.endswith('.zip'):\n",
        "              with ZipFile(tfile) as zfile:\n",
        "                zfile.extractall(destination_path)\n",
        "            else:\n",
        "              with tarfile.open(tfile.name) as tarfile:\n",
        "                tarfile.extractall(destination_path)\n",
        "            print(f'\\nDownloaded and uncompressed: {directory}')\n",
        "    except HTTPError as e:\n",
        "        print(f'Failed to load (likely expired) {download_url} to path {destination_path}')\n",
        "        continue\n",
        "    except OSError as e:\n",
        "        print(f'Failed to load {download_url} to path {destination_path}')\n",
        "        continue\n",
        "\n",
        "print('Data source import complete.')\n"
      ],
      "metadata": {
        "id": "osZsDcYt2akt"
      },
      "cell_type": "code",
      "outputs": [],
      "execution_count": null
    },
    {
      "metadata": {
        "id": "HpvrDx2n2akv"
      },
      "cell_type": "markdown",
      "source": [
        "<a class=\"anchor\" id=\"0\"></a>\n",
        "# **Random Forest Classifier Tutorial with Python**\n",
        "\n",
        "Hello friends,\n",
        "\n",
        "Random Forest is a supervised machine learning algorithm which is based on ensemble learning. In this kernel, I build two Random Forest Classifier models to predict the safety of the car, one with 10 decision-trees and another one with 100 decision-trees. The expected accuracy increases with number of decision-trees in the model. I have demonstrated the **feature selection process** using the Random Forest model to find only the important features, rebuild the model using these features and see its effect on accuracy.\n"
      ]
    },
    {
      "metadata": {
        "id": "OMLi4qM52akx"
      },
      "cell_type": "markdown",
      "source": [
        "**As always, I hope you find this kernel useful and your <font color=\"red\"><b>UPVOTES</b></font> would be highly appreciated**."
      ]
    },
    {
      "metadata": {
        "id": "H2nLVqKF2akx"
      },
      "cell_type": "markdown",
      "source": [
        "<a class=\"anchor\" id=\"0.1\"></a>\n",
        "# **Table of Contents**\n",
        "\n",
        "\n",
        "1.\t[Introduction to Random Forest algorithm](#1)\n",
        "2.\t[Random Forest algorithm intuition](#2)\n",
        "3.\t[Advantages and disadvantages of Random Forest algorithm](#3)\n",
        "4.\t[Feature selection with Random Forests](#4)\n",
        "5.\t[Difference between Random Forests and Decision-Trees](#5)\n",
        "6.\t[Relationship to nearest neighbours](#6)\n",
        "7.\t[Import libraries](#7)\n",
        "8.\t[Import dataset](#8)\n",
        "9.\t[Exploratory data analysis](#9)\n",
        "10.\t[Declare feature vector and target variable](#10)\n",
        "11.\t[Split data into separate training and test set](#11)\n",
        "12.\t[Feature engineering](#12)\n",
        "13.\t[Random Forest Classifier model with default parameters](#13)\n",
        "14.\t[Random Forest Classifier model with parameter n_estimators=100](#14)\n",
        "15.\t[Find important features with Random Forest model](#15)\n",
        "16.\t[Visualize the feature scores of the features](#16)\n",
        "17.\t[Build the Random Forest model on selected features](#17)\n",
        "18.\t[Confusion matrix](#18)\n",
        "19.\t[Classification report](#19)\n",
        "20.\t[Results and conclusion](#20)\n",
        "21. [References](#21)"
      ]
    },
    {
      "metadata": {
        "id": "tVeBOxKs2aky"
      },
      "cell_type": "markdown",
      "source": [
        "# **1. Introduction to Random Forest algorithm** <a class=\"anchor\" id=\"1\"></a>\n",
        "\n",
        "[Table of Contents](#0.1)\n",
        "\n",
        "\n",
        "Random forest is a supervised learning algorithm. It has two variations – one is used for classification problems and other is used for regression problems. It is one of the most flexible and easy to use algorithm. It creates decision trees on the given data samples, gets prediction from each tree and selects the best solution by means of voting. It is also a pretty good indicator of feature importance.\n",
        "\n",
        "\n",
        "Random forest algorithm combines multiple decision-trees, resulting in a forest of trees, hence the name `Random Forest`. In the random forest classifier, the higher the number of trees in the forest results in higher accuracy.\n",
        "\n"
      ]
    },
    {
      "metadata": {
        "id": "yM9gSHFf2akz"
      },
      "cell_type": "markdown",
      "source": [
        "# **2. Random Forest algorithm intuition** <a class=\"anchor\" id=\"2\"></a>\n",
        "\n",
        "[Table of Contents](#0.1)\n",
        "\n",
        "\n",
        "Random forest algorithm intuition can be divided into two stages.\n",
        "\n",
        "\n",
        "In the first stage, we randomly select “k” features out of total `m` features and build the random forest. In the first stage, we proceed as follows:-\n",
        "\n",
        "1.\tRandomly select `k` features from a total of `m` features where `k < m`.\n",
        "2.\tAmong the `k` features, calculate the node `d` using the best split point.\n",
        "3.\tSplit the node into daughter nodes using the best split.\n",
        "4.\tRepeat 1 to 3 steps until `l` number of nodes has been reached.\n",
        "5.\tBuild forest by repeating steps 1 to 4 for `n` number of times to create `n` number of trees.\n",
        "\n",
        "\n",
        "In the second stage, we make predictions using the trained random forest algorithm.\n",
        "\n",
        "1.\tWe take the test features and use the rules of each randomly created decision tree to predict the outcome and stores the predicted outcome.\n",
        "2.\tThen, we calculate the votes for each predicted target.\n",
        "3.\tFinally, we consider the high voted predicted target as the final prediction from the random forest algorithm.\n"
      ]
    },
    {
      "metadata": {
        "id": "eOy8FHTR2akz"
      },
      "cell_type": "markdown",
      "source": [
        "### Random Forest algorithm intuition\n",
        "\n",
        "![Random Forest](https://i.ytimg.com/vi/goPiwckWE9M/maxresdefault.jpg)"
      ]
    },
    {
      "metadata": {
        "id": "OuwWZHLC2ak0"
      },
      "cell_type": "markdown",
      "source": [
        "# **3. Advantages and disadvantages of Random Forest algorithm** <a class=\"anchor\" id=\"3\"></a>\n",
        "\n",
        "[Table of Contents](#0.1)\n",
        "\n",
        "\n",
        "The advantages of Random forest algorithm are as follows:-\n",
        "\n",
        "\n",
        "1.\tRandom forest algorithm can be used to solve both classification and regression problems.\n",
        "2.\tIt is considered as very accurate and robust model because it uses large number of decision-trees to make predictions.\n",
        "3.\tRandom forests takes the average of all the predictions made by the decision-trees, which cancels out the biases. So, it does not suffer from the overfitting problem.\n",
        "4.\tRandom forest classifier can handle the missing values. There are two ways to handle the missing values. First is to use median values to replace continuous variables and second is to compute the proximity-weighted average of missing values.\n",
        "5.\tRandom forest classifier can be used for feature selection. It means selecting the most important features out of the available features from the training dataset.\n",
        "\n",
        "\n",
        "The disadvantages of Random Forest algorithm are listed below:-\n",
        "\n",
        "\n",
        "1.\tThe biggest disadvantage of random forests is its computational complexity. Random forests is very slow in making predictions because large number of decision-trees are used to make predictions. All the trees in the forest have to make a prediction for the same input and then perform voting on it. So, it is a time-consuming process.\n",
        "2.\tThe model is difficult to interpret as compared to a decision-tree, where we can easily make a prediction as compared to a decision-tree.\n"
      ]
    },
    {
      "metadata": {
        "id": "h4jDPnSm2ak1"
      },
      "cell_type": "markdown",
      "source": [
        "# **4. Feature selection with Random Forests** <a class=\"anchor\" id=\"4\"></a>\n",
        "\n",
        "[Table of Contents](#0.1)\n",
        "\n",
        "\n",
        "\n",
        "Random forests algorithm can be used for feature selection process. This algorithm can be used to rank the importance of variables in a regression or classification problem.\n",
        "\n",
        "\n",
        "We measure the variable importance in a dataset by fitting the random forest algorithm to the data. During the fitting process, the out-of-bag error for each data point is recorded and averaged over the forest.\n",
        "\n",
        "\n",
        "The importance of the j-th feature was measured after training. The values of the j-th feature were permuted among the training data and the out-of-bag error was again computed on this perturbed dataset. The importance score for the j-th feature is computed by averaging the difference in out-of-bag error before and after the permutation over all trees. The score is normalized by the standard deviation of these differences.\n",
        "\n",
        "\n",
        "Features which produce large values for this score are ranked as more important than features which produce small values. Based on this score, we will choose the most important features and drop the least important ones for model building.\n"
      ]
    },
    {
      "metadata": {
        "id": "8w3pmT332ak1"
      },
      "cell_type": "markdown",
      "source": [
        "# **5. Difference between Random Forests and Decision Trees** <a class=\"anchor\" id=\"5\"></a>\n",
        "\n",
        "[Table of Contents](#0.1)\n",
        "\n",
        "\n",
        "I will compare random forests with decision-trees. Some salient features of comparison are as follows:-\n",
        "\n",
        "1. Random forests is a set of multiple decision-trees.\n",
        "\n",
        "2. Decision-trees are computationally faster as compared to random forests.\n",
        "\n",
        "3. Deep decision-trees may suffer from overfitting. Random forest prevents overfitting by creating trees on random forests.\n",
        "\n",
        "4. Random forest is difficult to interpret. But, a decision-tree is easily interpretable and can be converted to rules."
      ]
    },
    {
      "metadata": {
        "id": "LVk9z6Vv2ak1"
      },
      "cell_type": "markdown",
      "source": [
        "# **6. Relationship to nearest neighbours** <a class=\"anchor\" id=\"6\"></a>\n",
        "\n",
        "[Table of Contents](#0.1)\n",
        "\n",
        "\n",
        "A relationship between random forests and the k-nearest neighbours algorithm was pointed out by Lin and Jeon in 2002. It turns out that both can be viewed as so-called weighted neighbourhoods schemes. These are models built from a training set that make predictions for new points by looking at the neighbourhood of the point, formalized by a weight function."
      ]
    },
    {
      "metadata": {
        "id": "HIVMnBbC2ak1"
      },
      "cell_type": "markdown",
      "source": [
        "# **7. Import libraries** <a class=\"anchor\" id=\"7\"></a>\n",
        "\n",
        "[Table of Contents](#0.1)"
      ]
    },
    {
      "metadata": {
        "trusted": true,
        "id": "-ocJwRWu2ak2"
      },
      "cell_type": "code",
      "source": [
        "# This Python 3 environment comes with many helpful analytics libraries installed\n",
        "# It is defined by the kaggle/python docker image: https://github.com/kaggle/docker-python\n",
        "# For example, here's several helpful packages to load in\n",
        "\n",
        "import numpy as np # linear algebra\n",
        "import pandas as pd # data processing, CSV file I/O (e.g. pd.read_csv)\n",
        "import matplotlib.pyplot as plt # data visualization\n",
        "import seaborn as sns # statistical data visualization\n",
        "%matplotlib inline\n",
        "\n",
        "# Input data files are available in the \"../input/\" directory.\n",
        "# For example, running this (by clicking run or pressing Shift+Enter) will list all files under the input directory\n",
        "\n",
        "import os\n",
        "for dirname, _, filenames in os.walk('/kaggle/input'):\n",
        "    for filename in filenames:\n",
        "        print(os.path.join(dirname, filename))\n",
        "\n",
        "# Any results you write to the current directory are saved as output.\n"
      ],
      "execution_count": null,
      "outputs": []
    },
    {
      "metadata": {
        "trusted": true,
        "id": "J9D-6hlp2ak2"
      },
      "cell_type": "code",
      "source": [
        "import warnings\n",
        "\n",
        "warnings.filterwarnings('ignore')"
      ],
      "execution_count": null,
      "outputs": []
    },
    {
      "metadata": {
        "id": "_v4b3Xfs2ak2"
      },
      "cell_type": "markdown",
      "source": [
        "# **8. Import dataset** <a class=\"anchor\" id=\"8\"></a>\n",
        "\n",
        "[Table of Contents](#0.1)"
      ]
    },
    {
      "metadata": {
        "trusted": true,
        "id": "_e3R_yan2ak2"
      },
      "cell_type": "code",
      "source": [
        "data = '/kaggle/input/car-evaluation-data-set/car_evaluation.csv'\n",
        "\n",
        "df = pd.read_csv(data, header=None)"
      ],
      "execution_count": null,
      "outputs": []
    },
    {
      "metadata": {
        "id": "SaYDKGWb2ak3"
      },
      "cell_type": "markdown",
      "source": [
        "# **9. Exploratory data analysis** <a class=\"anchor\" id=\"9\"></a>\n",
        "\n",
        "[Table of Contents](#0.1)\n",
        "\n",
        "\n",
        "Now, I will explore the data to gain insights about the data."
      ]
    },
    {
      "metadata": {
        "trusted": true,
        "id": "xmtqfXxD2ak3"
      },
      "cell_type": "code",
      "source": [
        "# view dimensions of dataset\n",
        "\n",
        "df.shape"
      ],
      "execution_count": null,
      "outputs": []
    },
    {
      "metadata": {
        "id": "71PKWqFr2ak3"
      },
      "cell_type": "markdown",
      "source": [
        "We can see that there are 1728 instances and 7 variables in the data set."
      ]
    },
    {
      "metadata": {
        "id": "sQMGPJSa2ak3"
      },
      "cell_type": "markdown",
      "source": [
        "### View top 5 rows of dataset"
      ]
    },
    {
      "metadata": {
        "scrolled": false,
        "trusted": true,
        "id": "hbgWWLtg2ak3"
      },
      "cell_type": "code",
      "source": [
        "# preview the dataset\n",
        "\n",
        "df.head()"
      ],
      "execution_count": null,
      "outputs": []
    },
    {
      "metadata": {
        "id": "dOP64Vir2ak3"
      },
      "cell_type": "markdown",
      "source": [
        "### Rename column names\n",
        "\n",
        "We can see that the dataset does not have proper column names. The columns are merely labelled as 0,1,2.... and so on. We should give proper names to the columns. I will do it as follows:-"
      ]
    },
    {
      "metadata": {
        "trusted": true,
        "id": "Yh5e4gtY2ak4"
      },
      "cell_type": "code",
      "source": [
        "col_names = ['buying', 'maint', 'doors', 'persons', 'lug_boot', 'safety', 'class']\n",
        "\n",
        "\n",
        "df.columns = col_names\n",
        "\n",
        "col_names"
      ],
      "execution_count": null,
      "outputs": []
    },
    {
      "metadata": {
        "trusted": true,
        "id": "yZkHcZeO2ak4"
      },
      "cell_type": "code",
      "source": [
        "# let's again preview the dataset\n",
        "\n",
        "df.head()"
      ],
      "execution_count": null,
      "outputs": []
    },
    {
      "metadata": {
        "id": "q4k8JqJs2ak4"
      },
      "cell_type": "markdown",
      "source": [
        "We can see that the column names are renamed. Now, the columns have meaningful names."
      ]
    },
    {
      "metadata": {
        "id": "qVWpXkLc2ak4"
      },
      "cell_type": "markdown",
      "source": [
        "### View summary of dataset"
      ]
    },
    {
      "metadata": {
        "trusted": true,
        "id": "AYe44GdM2ak4"
      },
      "cell_type": "code",
      "source": [
        "df.info()"
      ],
      "execution_count": null,
      "outputs": []
    },
    {
      "metadata": {
        "id": "cIY8joo-2ak5"
      },
      "cell_type": "markdown",
      "source": [
        "### Frequency distribution of values in variables\n",
        "\n",
        "Now, I will check the frequency counts of categorical variables."
      ]
    },
    {
      "metadata": {
        "trusted": true,
        "id": "aVOgVXAF2ak5"
      },
      "cell_type": "code",
      "source": [
        "col_names = ['buying', 'maint', 'doors', 'persons', 'lug_boot', 'safety', 'class']\n",
        "\n",
        "\n",
        "for col in col_names:\n",
        "\n",
        "    print(df[col].value_counts())\n"
      ],
      "execution_count": null,
      "outputs": []
    },
    {
      "metadata": {
        "id": "1CSADS5W2ak5"
      },
      "cell_type": "markdown",
      "source": [
        "We can see that the `doors` and `persons` are categorical in nature. So, I will treat them as categorical variables."
      ]
    },
    {
      "metadata": {
        "id": "hSY_90Ey2ak5"
      },
      "cell_type": "markdown",
      "source": [
        "### Summary of variables\n",
        "\n",
        "\n",
        "- There are 7 variables in the dataset. All the variables are of categorical data type.\n",
        "\n",
        "\n",
        "- These are given by `buying`, `maint`, `doors`, `persons`, `lug_boot`, `safety` and `class`.\n",
        "\n",
        "\n",
        "- `class` is the target variable."
      ]
    },
    {
      "metadata": {
        "id": "6G05ZQjJ2ak5"
      },
      "cell_type": "markdown",
      "source": [
        "### Explore `class` variable"
      ]
    },
    {
      "metadata": {
        "trusted": true,
        "id": "XiLOFOM_2ak6"
      },
      "cell_type": "code",
      "source": [
        "df['class'].value_counts()"
      ],
      "execution_count": null,
      "outputs": []
    },
    {
      "metadata": {
        "id": "TefSrx1W2ak6"
      },
      "cell_type": "markdown",
      "source": [
        "The `class` target variable is ordinal in nature."
      ]
    },
    {
      "metadata": {
        "id": "a9hmIrSw2ak6"
      },
      "cell_type": "markdown",
      "source": [
        "### Missing values in variables"
      ]
    },
    {
      "metadata": {
        "trusted": true,
        "id": "4SzqbCC92ak6"
      },
      "cell_type": "code",
      "source": [
        "# check missing values in variables\n",
        "\n",
        "df.isnull().sum()"
      ],
      "execution_count": null,
      "outputs": []
    },
    {
      "metadata": {
        "id": "4QS1AbvN2ak6"
      },
      "cell_type": "markdown",
      "source": [
        "We can see that there are no missing values in the dataset. I have checked the frequency distribution of values previously. It also confirms that there are no missing values in the dataset."
      ]
    },
    {
      "metadata": {
        "id": "S-sJiklJ2ak6"
      },
      "cell_type": "markdown",
      "source": [
        "# **10. Declare feature vector and target variable** <a class=\"anchor\" id=\"10\"></a>\n",
        "\n",
        "[Table of Contents](#0.1)"
      ]
    },
    {
      "metadata": {
        "trusted": true,
        "id": "EvoTmgJ12ak7"
      },
      "cell_type": "code",
      "source": [
        "X = df.drop(['class'], axis=1)\n",
        "\n",
        "y = df['class']"
      ],
      "execution_count": null,
      "outputs": []
    },
    {
      "metadata": {
        "id": "LQ-gED792alC"
      },
      "cell_type": "markdown",
      "source": [
        "# **11. Split data into separate training and test set** <a class=\"anchor\" id=\"11\"></a>\n",
        "\n",
        "[Table of Contents](#0.1)"
      ]
    },
    {
      "metadata": {
        "trusted": true,
        "id": "eJv51iR32alC"
      },
      "cell_type": "code",
      "source": [
        "# split data into training and testing sets\n",
        "\n",
        "from sklearn.model_selection import train_test_split\n",
        "\n",
        "X_train, X_test, y_train, y_test = train_test_split(X, y, test_size = 0.33, random_state = 42)\n"
      ],
      "execution_count": null,
      "outputs": []
    },
    {
      "metadata": {
        "trusted": true,
        "id": "SwqSB6102alC"
      },
      "cell_type": "code",
      "source": [
        "# check the shape of X_train and X_test\n",
        "\n",
        "X_train.shape, X_test.shape"
      ],
      "execution_count": null,
      "outputs": []
    },
    {
      "metadata": {
        "id": "5wXbbL1G2alC"
      },
      "cell_type": "markdown",
      "source": [
        "# **12. Feature Engineering** <a class=\"anchor\" id=\"12\"></a>\n",
        "\n",
        "[Table of Contents](#0.1)\n",
        "\n",
        "\n",
        "**Feature Engineering** is the process of transforming raw data into useful features that help us to understand our model better and increase its predictive power. I will carry out feature engineering on different types of variables.\n",
        "\n",
        "\n",
        "First, I will check the data types of variables again."
      ]
    },
    {
      "metadata": {
        "trusted": true,
        "id": "zAH6D0KE2alC"
      },
      "cell_type": "code",
      "source": [
        "# check data types in X_train\n",
        "\n",
        "X_train.dtypes"
      ],
      "execution_count": null,
      "outputs": []
    },
    {
      "metadata": {
        "id": "iPCTHVu82alC"
      },
      "cell_type": "markdown",
      "source": [
        "### Encode categorical variables\n",
        "\n",
        "\n",
        "Now, I will encode the categorical variables."
      ]
    },
    {
      "metadata": {
        "trusted": true,
        "id": "JSQYpZUp2alD"
      },
      "cell_type": "code",
      "source": [
        "X_train.head()"
      ],
      "execution_count": null,
      "outputs": []
    },
    {
      "metadata": {
        "id": "kb8zPSTm2alD"
      },
      "cell_type": "markdown",
      "source": [
        "We can see that all  the variables are ordinal categorical data type."
      ]
    },
    {
      "metadata": {
        "trusted": true,
        "id": "DLWcDBz12alD"
      },
      "cell_type": "code",
      "source": [
        "# import category encoders\n",
        "\n",
        "import category_encoders as ce"
      ],
      "execution_count": null,
      "outputs": []
    },
    {
      "metadata": {
        "trusted": true,
        "id": "8YVNCaaS2alD"
      },
      "cell_type": "code",
      "source": [
        "# encode categorical variables with ordinal encoding\n",
        "\n",
        "encoder = ce.OrdinalEncoder(cols=['buying', 'maint', 'doors', 'persons', 'lug_boot', 'safety'])\n",
        "\n",
        "\n",
        "X_train = encoder.fit_transform(X_train)\n",
        "\n",
        "X_test = encoder.transform(X_test)"
      ],
      "execution_count": null,
      "outputs": []
    },
    {
      "metadata": {
        "trusted": true,
        "id": "tR4AvNwJ2alD"
      },
      "cell_type": "code",
      "source": [
        "X_train.head()"
      ],
      "execution_count": null,
      "outputs": []
    },
    {
      "metadata": {
        "trusted": true,
        "id": "5c8zFrby2alD"
      },
      "cell_type": "code",
      "source": [
        "X_test.head()"
      ],
      "execution_count": null,
      "outputs": []
    },
    {
      "metadata": {
        "id": "T_hdVxDr2alE"
      },
      "cell_type": "markdown",
      "source": [
        "We now have training and test set ready for model building."
      ]
    },
    {
      "metadata": {
        "id": "ngP6knPX2alE"
      },
      "cell_type": "markdown",
      "source": [
        "# **13. Random Forest Classifier model with default parameters** <a class=\"anchor\" id=\"13\"></a>\n",
        "\n",
        "[Table of Contents](#0.1)"
      ]
    },
    {
      "metadata": {
        "trusted": true,
        "id": "oSzj1z1B2alE"
      },
      "cell_type": "code",
      "source": [
        "# import Random Forest classifier\n",
        "\n",
        "from sklearn.ensemble import RandomForestClassifier\n",
        "\n",
        "\n",
        "\n",
        "# instantiate the classifier\n",
        "\n",
        "rfc = RandomForestClassifier(random_state=0)\n",
        "\n",
        "\n",
        "\n",
        "# fit the model\n",
        "\n",
        "rfc.fit(X_train, y_train)\n",
        "\n",
        "\n",
        "\n",
        "# Predict the Test set results\n",
        "\n",
        "y_pred = rfc.predict(X_test)\n",
        "\n",
        "\n",
        "\n",
        "# Check accuracy score\n",
        "\n",
        "from sklearn.metrics import accuracy_score\n",
        "\n",
        "print('Model accuracy score with 10 decision-trees : {0:0.4f}'. format(accuracy_score(y_test, y_pred)))"
      ],
      "execution_count": null,
      "outputs": []
    },
    {
      "metadata": {
        "id": "W-qNRj5T2alE"
      },
      "cell_type": "markdown",
      "source": [
        "Here, **y_test** are the true class labels and **y_pred** are the predicted class labels in the test-set."
      ]
    },
    {
      "metadata": {
        "id": "6t8HDIJW2alE"
      },
      "cell_type": "markdown",
      "source": [
        "Here, I have build the Random Forest Classifier model with default parameter of `n_estimators = 10`. So, I have used 10 decision-trees to build the model. Now, I will increase the number of decision-trees and see its effect on accuracy."
      ]
    },
    {
      "metadata": {
        "id": "X2zGHMV52alE"
      },
      "cell_type": "markdown",
      "source": [
        "# **14. Random Forest Classifier model with parameter n_estimators=100** <a class=\"anchor\" id=\"14\"></a>\n",
        "\n",
        "[Table of Contents](#0.1)"
      ]
    },
    {
      "metadata": {
        "trusted": true,
        "id": "zWcV6QVf2alF"
      },
      "cell_type": "code",
      "source": [
        "# instantiate the classifier with n_estimators = 100\n",
        "\n",
        "rfc_100 = RandomForestClassifier(n_estimators=100, random_state=0)\n",
        "\n",
        "\n",
        "\n",
        "# fit the model to the training set\n",
        "\n",
        "rfc_100.fit(X_train, y_train)\n",
        "\n",
        "\n",
        "\n",
        "# Predict on the test set results\n",
        "\n",
        "y_pred_100 = rfc_100.predict(X_test)\n",
        "\n",
        "\n",
        "\n",
        "# Check accuracy score\n",
        "\n",
        "print('Model accuracy score with 100 decision-trees : {0:0.4f}'. format(accuracy_score(y_test, y_pred_100)))"
      ],
      "execution_count": null,
      "outputs": []
    },
    {
      "metadata": {
        "id": "EomRIXBa2alF"
      },
      "cell_type": "markdown",
      "source": [
        "The model accuracy score with 10 decision-trees is 0.9247 but the same with 100 decision-trees is 0.9457. So, as expected accuracy increases with number of decision-trees in the model."
      ]
    },
    {
      "metadata": {
        "id": "xpGvDZMG2alF"
      },
      "cell_type": "markdown",
      "source": [
        "# **15. Find important features with Random Forest model** <a class=\"anchor\" id=\"15\"></a>\n",
        "\n",
        "[Table of Contents](#0.1)\n",
        "\n",
        "\n",
        "Until now, I have used all the features given in the model. Now, I will select only the important features, build the model using these features and see its effect on accuracy.\n",
        "\n",
        "\n",
        "First, I will create the Random Forest model as follows:-"
      ]
    },
    {
      "metadata": {
        "trusted": true,
        "id": "q3r6xRFN2alF"
      },
      "cell_type": "code",
      "source": [
        "# create the classifier with n_estimators = 100\n",
        "\n",
        "clf = RandomForestClassifier(n_estimators=100, random_state=0)\n",
        "\n",
        "\n",
        "\n",
        "# fit the model to the training set\n",
        "\n",
        "clf.fit(X_train, y_train)\n"
      ],
      "execution_count": null,
      "outputs": []
    },
    {
      "metadata": {
        "id": "4UmRTm9n2alF"
      },
      "cell_type": "markdown",
      "source": [
        "Now, I will use the feature importance variable to see feature importance scores."
      ]
    },
    {
      "metadata": {
        "scrolled": true,
        "trusted": true,
        "id": "lkDp-Jjp2alF"
      },
      "cell_type": "code",
      "source": [
        "# view the feature scores\n",
        "\n",
        "feature_scores = pd.Series(clf.feature_importances_, index=X_train.columns).sort_values(ascending=False)\n",
        "\n",
        "feature_scores"
      ],
      "execution_count": null,
      "outputs": []
    },
    {
      "metadata": {
        "id": "RPlQAFJT2alG"
      },
      "cell_type": "markdown",
      "source": [
        "We can see that the most important feature is `safety` and least important feature is `doors`."
      ]
    },
    {
      "metadata": {
        "id": "1GiR06ee2alG"
      },
      "cell_type": "markdown",
      "source": [
        "# **16. Visualize feature scores of the features** <a class=\"anchor\" id=\"16\"></a>\n",
        "\n",
        "[Table of Contents](#0.1)\n",
        "\n",
        "\n",
        "Now, I will visualize the feature scores with matplotlib and seaborn."
      ]
    },
    {
      "metadata": {
        "trusted": true,
        "id": "exJdUoSi2alG"
      },
      "cell_type": "code",
      "source": [
        "# Creating a seaborn bar plot\n",
        "\n",
        "sns.barplot(x=feature_scores, y=feature_scores.index)\n",
        "\n",
        "\n",
        "\n",
        "# Add labels to the graph\n",
        "\n",
        "plt.xlabel('Feature Importance Score')\n",
        "\n",
        "plt.ylabel('Features')\n",
        "\n",
        "\n",
        "\n",
        "# Add title to the graph\n",
        "\n",
        "plt.title(\"Visualizing Important Features\")\n",
        "\n",
        "\n",
        "\n",
        "# Visualize the graph\n",
        "\n",
        "plt.show()"
      ],
      "execution_count": null,
      "outputs": []
    },
    {
      "metadata": {
        "id": "NjBXso8x2alG"
      },
      "cell_type": "markdown",
      "source": [
        "# **17. Build Random Forest model on selected features** <a class=\"anchor\" id=\"17\"></a>\n",
        "\n",
        "[Table of Contents](#0.1)\n",
        "\n",
        "\n",
        "Now, I will drop the least important feature `doors` from the model, rebuild the model and check its effect on accuracy."
      ]
    },
    {
      "metadata": {
        "trusted": true,
        "id": "b-JogsQb2alG"
      },
      "cell_type": "code",
      "source": [
        "# declare feature vector and target variable\n",
        "\n",
        "X = df.drop(['class', 'doors'], axis=1)\n",
        "\n",
        "y = df['class']"
      ],
      "execution_count": null,
      "outputs": []
    },
    {
      "metadata": {
        "trusted": true,
        "id": "fU1rrDOZ2alH"
      },
      "cell_type": "code",
      "source": [
        "# split data into training and testing sets\n",
        "\n",
        "from sklearn.model_selection import train_test_split\n",
        "\n",
        "X_train, X_test, y_train, y_test = train_test_split(X, y, test_size = 0.33, random_state = 42)\n"
      ],
      "execution_count": null,
      "outputs": []
    },
    {
      "metadata": {
        "id": "Fn18JUmy2alH"
      },
      "cell_type": "markdown",
      "source": [
        "Now, I will build the random forest model and check accuracy."
      ]
    },
    {
      "metadata": {
        "trusted": true,
        "id": "lHr7yVTX2alH"
      },
      "cell_type": "code",
      "source": [
        "# encode categorical variables with ordinal encoding\n",
        "\n",
        "encoder = ce.OrdinalEncoder(cols=['buying', 'maint', 'persons', 'lug_boot', 'safety'])\n",
        "\n",
        "\n",
        "X_train = encoder.fit_transform(X_train)\n",
        "\n",
        "X_test = encoder.transform(X_test)"
      ],
      "execution_count": null,
      "outputs": []
    },
    {
      "metadata": {
        "trusted": true,
        "id": "8lfDC_xI2alH"
      },
      "cell_type": "code",
      "source": [
        "# instantiate the classifier with n_estimators = 100\n",
        "\n",
        "clf = RandomForestClassifier(random_state=0)\n",
        "\n",
        "\n",
        "\n",
        "# fit the model to the training set\n",
        "\n",
        "clf.fit(X_train, y_train)\n",
        "\n",
        "\n",
        "# Predict on the test set results\n",
        "\n",
        "y_pred = clf.predict(X_test)\n",
        "\n",
        "\n",
        "\n",
        "# Check accuracy score\n",
        "\n",
        "print('Model accuracy score with doors variable removed : {0:0.4f}'. format(accuracy_score(y_test, y_pred)))\n"
      ],
      "execution_count": null,
      "outputs": []
    },
    {
      "metadata": {
        "id": "fqjYq2zK2alI"
      },
      "cell_type": "markdown",
      "source": [
        "I have removed the `doors` variable from the model, rebuild it and checked its accuracy. The accuracy of the model with `doors` variable removed is 0.9264. The accuracy of the model with all the variables taken into account is 0.9247. So, we can see that the model accuracy has been improved with `doors` variable removed from the model.\n",
        "\n",
        "Furthermore, the second least important model is `lug_boot`. If I remove it from the model and rebuild the model, then the accuracy was found to be 0.8546. It is a significant drop in the accuracy. So, I will not drop it from the model."
      ]
    },
    {
      "metadata": {
        "id": "l9mFd9Pg2alI"
      },
      "cell_type": "markdown",
      "source": [
        "Now, based on the above analysis we can conclude that our classification model accuracy is very good. Our model is doing a very good job in terms of predicting the class labels.\n",
        "\n",
        "\n",
        "But, it does not give the underlying distribution of values. Also, it does not tell anything about the type of errors our classifer is making.\n",
        "\n",
        "\n",
        "We have another tool called `Confusion matrix` that comes to our rescue."
      ]
    },
    {
      "metadata": {
        "id": "4hyeYgIz2alI"
      },
      "cell_type": "markdown",
      "source": [
        "# **18. Confusion matrix** <a class=\"anchor\" id=\"18\"></a>\n",
        "\n",
        "[Table of Contents](#0.1)\n",
        "\n",
        "\n",
        "\n",
        "A confusion matrix is a tool for summarizing the performance of a classification algorithm. A confusion matrix will give us a clear picture of classification model performance and the types of errors produced by the model. It gives us a summary of correct and incorrect predictions broken down by each category. The summary is represented in a tabular form.\n",
        "\n",
        "\n",
        "Four types of outcomes are possible while evaluating a classification model performance. These four outcomes are described below:-\n",
        "\n",
        "\n",
        "**True Positives (TP)** – True Positives occur when we predict an observation belongs to a certain class and the observation actually belongs to that class.\n",
        "\n",
        "\n",
        "**True Negatives (TN)** – True Negatives occur when we predict an observation does not belong to a certain class and the observation actually does not belong to that class.\n",
        "\n",
        "\n",
        "**False Positives (FP)** – False Positives occur when we predict an observation belongs to a    certain class but the observation actually does not belong to that class. This type of error is called **Type I error.**\n",
        "\n",
        "\n",
        "\n",
        "**False Negatives (FN)** – False Negatives occur when we predict an observation does not belong to a certain class but the observation actually belongs to that class. This is a very serious error and it is called **Type II error.**\n",
        "\n",
        "\n",
        "\n",
        "These four outcomes are summarized in a confusion matrix given below.\n"
      ]
    },
    {
      "metadata": {
        "trusted": true,
        "id": "hMoHDLIe2alI"
      },
      "cell_type": "code",
      "source": [
        "# Print the Confusion Matrix and slice it into four pieces\n",
        "\n",
        "from sklearn.metrics import confusion_matrix\n",
        "\n",
        "cm = confusion_matrix(y_test, y_pred)\n",
        "\n",
        "print('Confusion matrix\\n\\n', cm)\n",
        "\n"
      ],
      "execution_count": null,
      "outputs": []
    },
    {
      "metadata": {
        "id": "hFxXQIHt2alI"
      },
      "cell_type": "markdown",
      "source": [
        "# **19. Classification Report** <a class=\"anchor\" id=\"19\"></a>\n",
        "\n",
        "[Table of Contents](#0.1)\n",
        "\n",
        "\n",
        "**Classification report** is another way to evaluate the classification model performance. It displays the  **precision**, **recall**, **f1** and **support** scores for the model. I have described these terms in later.\n",
        "\n",
        "We can print a classification report as follows:-"
      ]
    },
    {
      "metadata": {
        "trusted": true,
        "id": "jM_jYQhW2alJ"
      },
      "cell_type": "code",
      "source": [
        "from sklearn.metrics import classification_report\n",
        "\n",
        "print(classification_report(y_test, y_pred))"
      ],
      "execution_count": null,
      "outputs": []
    },
    {
      "metadata": {
        "id": "_0wysoVu2alJ"
      },
      "cell_type": "markdown",
      "source": [
        "# **20. Results and conclusion** <a class=\"anchor\" id=\"20\"></a>\n",
        "\n",
        "[Table of Contents](#0.1)\n",
        "\n",
        "\n",
        "1.\tIn this project, I build a Random Forest Classifier to predict the safety of the car. I build two models, one with 10 decision-trees and another one with 100 decision-trees.\n",
        "2.\tThe model accuracy score with 10 decision-trees is 0.9247 but the same with 100 decision-trees is 0.9457. So, as expected accuracy increases with number of decision-trees in the model.\n",
        "3.\tI have used the Random Forest model to find only the important features, build the model using these features and see its effect on accuracy. The most important feature is `safety` and least important feature is `doors`.\n",
        "4.\tI have removed the `doors` variable from the model, rebuild it and checked its accuracy. The accuracy of the model with `doors` variable removed is 0.9264. The accuracy of the model with all the variables taken into account is 0.9247. So, we can see that the model accuracy has been improved with `doors` variable removed from the model.\n",
        "5.\tThe second least important model is `lug_boot`. If I remove it from the model and rebuild the model, then the accuracy was found to be 0.8546. It is a significant drop in the accuracy. So, I will not drop it from the model.\n",
        "6.\tConfusion matrix and classification report are another tool to visualize the model performance. They yield good performance.\n",
        "\n"
      ]
    },
    {
      "metadata": {
        "id": "7gneYqzc2alJ"
      },
      "cell_type": "markdown",
      "source": [
        "# **21. References** <a class=\"anchor\" id=\"21\"></a>\n",
        "\n",
        "[Table of Contents](#0.1)\n",
        "\n",
        "\n",
        "The work done in this project is inspired from following books and websites:-\n",
        "\n",
        "1. Hands on Machine Learning with Scikit-Learn and Tensorflow by Aurélién Géron\n",
        "\n",
        "2. Introduction to Machine Learning with Python by Andreas C. Müller and Sarah Guido\n",
        "\n",
        "3. https://en.wikipedia.org/wiki/Random_forest\n",
        "\n",
        "4. https://www.datacamp.com/community/tutorials/random-forests-classifier-python\n",
        "\n",
        "5. http://dataaspirant.com/2017/05/22/random-forest-algorithm-machine-learing/\n",
        "\n",
        "6. https://stackabuse.com/random-forest-algorithm-with-python-and-scikit-learn/"
      ]
    },
    {
      "metadata": {
        "id": "bqZ3h3e52alJ"
      },
      "cell_type": "markdown",
      "source": [
        "So, now we will come to the end of this kernel.\n",
        "\n",
        "I hope you find this kernel useful and enjoyable.\n",
        "\n",
        "Your comments and feedback are most welcome.\n",
        "\n",
        "Thank you\n"
      ]
    },
    {
      "metadata": {
        "id": "FB44fXNW2alJ"
      },
      "cell_type": "markdown",
      "source": [
        "[Go to Top](#0)"
      ]
    }
  ],
  "metadata": {
    "kernelspec": {
      "display_name": "Python 3",
      "language": "python",
      "name": "python3"
    },
    "language_info": {
      "codemirror_mode": {
        "name": "ipython",
        "version": 3
      },
      "file_extension": ".py",
      "mimetype": "text/x-python",
      "name": "python",
      "nbconvert_exporter": "python",
      "pygments_lexer": "ipython3",
      "version": "3.7.0"
    },
    "colab": {
      "name": "Random Forest Classifier Tutorial",
      "provenance": []
    }
  },
  "nbformat": 4,
  "nbformat_minor": 0
}